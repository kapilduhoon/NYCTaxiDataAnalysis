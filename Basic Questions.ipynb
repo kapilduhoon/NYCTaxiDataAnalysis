{
 "cells": [
  {
   "cell_type": "code",
   "execution_count": 1,
   "metadata": {
    "collapsed": true
   },
   "outputs": [],
   "source": [
    "# Importing the required libraries\n",
    "import csv\n",
    "import pandas as pd\n",
    "import numpy as np\n",
    "from scipy import stats, integrate\n",
    "import matplotlib.pyplot as plt\n",
    "%matplotlib inline\n",
    "import warnings\n",
    "warnings.filterwarnings('ignore')"
   ]
  },
  {
   "cell_type": "code",
   "execution_count": 2,
   "metadata": {
    "collapsed": false
   },
   "outputs": [],
   "source": [
    "# loading the data.\n",
    "# Trip fare data:\n",
    "#    medallion, hack_license, vendor_id, pickup_datetime, payment_type, \n",
    "#    fare_amount, surcharge, mta_tax, tip_amount, tolls_amount, total_amount\n",
    "# Trip Details Data\n",
    "#    medallion, hack_license, vendor_id, rate_code, store_and_fwd_flag, \n",
    "#    pickup_datetime, dropoff_datetime, passenger_count, trip_time_in_secs,\n",
    "#    trip_distance, pickup_longitude, pickup_latitude, dropoff_longitude, dropoff_latitude\n",
    "\n",
    "trip_fare_file = \"data/trip_fare_4.csv\"\n",
    "trip_fare = pd.read_csv(trip_fare_file)\n",
    "trip_detail_file = \"data/trip_data_4.csv\"\n",
    "trip_detail = pd.read_csv(trip_detail_file)"
   ]
  },
  {
   "cell_type": "code",
   "execution_count": 3,
   "metadata": {
    "collapsed": false
   },
   "outputs": [
    {
     "name": "stdout",
     "output_type": "stream",
     "text": [
      "(15100468, 14)\n",
      "(15100468, 11)\n"
     ]
    }
   ],
   "source": [
    "print trip_detail.shape\n",
    "print trip_fare.shape"
   ]
  },
  {
   "cell_type": "markdown",
   "metadata": {},
   "source": [
    "Combining the Data Sets"
   ]
  },
  {
   "cell_type": "code",
   "execution_count": 4,
   "metadata": {
    "collapsed": false
   },
   "outputs": [
    {
     "data": {
      "text/plain": [
       "(15100468, 25)"
      ]
     },
     "execution_count": 4,
     "metadata": {},
     "output_type": "execute_result"
    }
   ],
   "source": [
    "trip_data = pd.concat([trip_detail,trip_fare], axis=1)\n",
    "trip_data.shape"
   ]
  },
  {
   "cell_type": "code",
   "execution_count": 29,
   "metadata": {
    "collapsed": false
   },
   "outputs": [
    {
     "data": {
      "text/plain": [
       "['medallion',\n",
       " ' hack_license',\n",
       " ' vendor_id',\n",
       " ' pickup_datetime',\n",
       " ' payment_type',\n",
       " ' fare_amount',\n",
       " ' surcharge',\n",
       " ' mta_tax',\n",
       " ' tip_amount',\n",
       " ' tolls_amount',\n",
       " ' total_amount']"
      ]
     },
     "execution_count": 29,
     "metadata": {},
     "output_type": "execute_result"
    }
   ],
   "source": [
    "trip_fare.columns.tolist()"
   ]
  },
  {
   "cell_type": "code",
   "execution_count": 31,
   "metadata": {
    "collapsed": false
   },
   "outputs": [
    {
     "data": {
      "text/plain": [
       "['medallion',\n",
       " ' hack_license',\n",
       " ' vendor_id',\n",
       " ' rate_code',\n",
       " ' store_and_fwd_flag',\n",
       " ' pickup_datetime',\n",
       " ' dropoff_datetime',\n",
       " ' passenger_count',\n",
       " ' trip_time_in_secs',\n",
       " ' trip_distance',\n",
       " ' pickup_longitude',\n",
       " ' pickup_latitude',\n",
       " ' dropoff_longitude',\n",
       " ' dropoff_latitude']"
      ]
     },
     "execution_count": 31,
     "metadata": {},
     "output_type": "execute_result"
    }
   ],
   "source": [
    "trip_detail.columns.tolist()"
   ]
  },
  {
   "cell_type": "code",
   "execution_count": 5,
   "metadata": {
    "collapsed": true
   },
   "outputs": [],
   "source": [
    "del trip_detail ## freeing the memory\n",
    "del trip_fare\n",
    "#(14829788, 25)"
   ]
  },
  {
   "cell_type": "code",
   "execution_count": 6,
   "metadata": {
    "collapsed": true
   },
   "outputs": [],
   "source": [
    "trip_data.columns = ['medallion', 'hack_license', 'vendor_id',\\\n",
    "                     'rate_code', 'store_and_fwd_flag', 'pickup_datetime', \\\n",
    "                     'dropoff_datetime', 'passenger_count', 'trip_time_in_secs',\\\n",
    "                     'trip_distance', 'pickup_longitude', 'pickup_latitude',\\\n",
    "                     'dropoff_longitude', 'dropoff_latitude', 'medallion1', \\\n",
    "                     'hack_license1', 'vendor_id1', 'pickup_datetime1', 'payment_type',\\\n",
    "                     'fare_amount', 'surcharge', 'mta_tax', 'tip_amount', 'tolls_amount',\\\n",
    "                     'total_amount']"
   ]
  },
  {
   "cell_type": "code",
   "execution_count": 36,
   "metadata": {
    "collapsed": false
   },
   "outputs": [
    {
     "data": {
      "text/plain": [
       "['medallion',\n",
       " 'hack_license',\n",
       " 'vendor_id',\n",
       " 'rate_code',\n",
       " 'store_and_fwd_flag',\n",
       " 'pickup_datetime',\n",
       " 'dropoff_datetime',\n",
       " 'passenger_count',\n",
       " 'trip_time_in_secs',\n",
       " 'trip_distance',\n",
       " 'pickup_longitude',\n",
       " 'pickup_latitude',\n",
       " 'dropoff_longitude',\n",
       " 'dropoff_latitude',\n",
       " 'medallion1',\n",
       " 'hack_license1',\n",
       " 'vendor_id1',\n",
       " 'pickup_datetime1',\n",
       " 'payment_type',\n",
       " 'fare_amount',\n",
       " 'surcharge',\n",
       " 'mta_tax',\n",
       " 'tip_amount',\n",
       " 'tolls_amount',\n",
       " 'total_amount']"
      ]
     },
     "execution_count": 36,
     "metadata": {},
     "output_type": "execute_result"
    }
   ],
   "source": [
    "trip_data.columns.tolist()"
   ]
  },
  {
   "cell_type": "code",
   "execution_count": 7,
   "metadata": {
    "collapsed": false
   },
   "outputs": [],
   "source": [
    "del trip_data['medallion1']"
   ]
  },
  {
   "cell_type": "code",
   "execution_count": 8,
   "metadata": {
    "collapsed": true
   },
   "outputs": [],
   "source": [
    "del trip_data['hack_license1']\n",
    "del trip_data['vendor_id1']\n",
    "del trip_data['pickup_datetime1']"
   ]
  },
  {
   "cell_type": "code",
   "execution_count": 43,
   "metadata": {
    "collapsed": false
   },
   "outputs": [
    {
     "data": {
      "text/plain": [
       "(15100468, 21)"
      ]
     },
     "execution_count": 43,
     "metadata": {},
     "output_type": "execute_result"
    }
   ],
   "source": [
    "trip_data.shape"
   ]
  },
  {
   "cell_type": "code",
   "execution_count": 49,
   "metadata": {
    "collapsed": false
   },
   "outputs": [
    {
     "data": {
      "text/plain": [
       "['medallion',\n",
       " 'hack_license',\n",
       " 'vendor_id',\n",
       " 'rate_code',\n",
       " 'store_and_fwd_flag',\n",
       " 'pickup_datetime',\n",
       " 'dropoff_datetime',\n",
       " 'passenger_count',\n",
       " 'trip_time_in_secs',\n",
       " 'trip_distance',\n",
       " 'pickup_longitude',\n",
       " 'pickup_latitude',\n",
       " 'dropoff_longitude',\n",
       " 'dropoff_latitude',\n",
       " 'payment_type',\n",
       " 'fare_amount',\n",
       " 'surcharge',\n",
       " 'mta_tax',\n",
       " 'tip_amount',\n",
       " 'tolls_amount',\n",
       " 'total_amount']"
      ]
     },
     "execution_count": 49,
     "metadata": {},
     "output_type": "execute_result"
    }
   ],
   "source": [
    "trip_data.columns.tolist()"
   ]
  },
  {
   "cell_type": "code",
   "execution_count": 50,
   "metadata": {
    "collapsed": false
   },
   "outputs": [
    {
     "data": {
      "text/plain": [
       "1    10707072\n",
       "2     1985742\n",
       "5      890115\n",
       "3      609849\n",
       "6      609313\n",
       "4      298146\n",
       "0         229\n",
       "9           1\n",
       "8           1\n",
       "Name: passenger_count, dtype: int64"
      ]
     },
     "execution_count": 50,
     "metadata": {},
     "output_type": "execute_result"
    }
   ],
   "source": [
    "trip_data['passenger_count'].value_counts()"
   ]
  },
  {
   "cell_type": "code",
   "execution_count": 51,
   "metadata": {
    "collapsed": false
   },
   "outputs": [
    {
     "data": {
      "text/plain": [
       "CRD    8105470\n",
       "CSH    6943669\n",
       "NOC      33595\n",
       "DIS      11552\n",
       "UNK       6182\n",
       "Name: payment_type, dtype: int64"
      ]
     },
     "execution_count": 51,
     "metadata": {},
     "output_type": "execute_result"
    }
   ],
   "source": [
    "trip_data['payment_type'].value_counts()"
   ]
  },
  {
   "cell_type": "code",
   "execution_count": 76,
   "metadata": {
    "collapsed": false
   },
   "outputs": [],
   "source": [
    "l = trip_data.describe(percentiles = [ 0.05 , 0.1 ,  0.15 , 0.2 ,  0.25  ,0.3  , 0.35 , 0.45 , 0.5  , 0.55  ,0.6  , 0.65,\n",
    "  0.7,   0.75 , 0.8  , 0.85 , 0.9 ,  0.95,  1. ]).transpose()"
   ]
  },
  {
   "cell_type": "code",
   "execution_count": 75,
   "metadata": {
    "collapsed": true
   },
   "outputs": [],
   "source": [
    "l.to_csv(\"describe.csv\")"
   ]
  },
  {
   "cell_type": "code",
   "execution_count": 9,
   "metadata": {
    "collapsed": false
   },
   "outputs": [],
   "source": [
    "trip_data['hour'] = trip_data['pickup_datetime'].apply(lambda x: x.split(\" \")[1].split(\":\")[0])"
   ]
  },
  {
   "cell_type": "code",
   "execution_count": 78,
   "metadata": {
    "collapsed": false
   },
   "outputs": [
    {
     "data": {
      "text/plain": [
       "19    950590\n",
       "18    922177\n",
       "20    917030\n",
       "21    881281\n",
       "22    852428\n",
       "14    755502\n",
       "23    742929\n",
       "17    739273\n",
       "12    736474\n",
       "09    725640\n",
       "13    723050\n",
       "15    720818\n",
       "08    710687\n",
       "11    704813\n",
       "10    689784\n",
       "16    602775\n",
       "07    581624\n",
       "00    571022\n",
       "01    412951\n",
       "06    319629\n",
       "02    309334\n",
       "03    223655\n",
       "04    163405\n",
       "05    143597\n",
       "Name: hour, dtype: int64"
      ]
     },
     "execution_count": 78,
     "metadata": {},
     "output_type": "execute_result"
    }
   ],
   "source": [
    "trip_data['hour'].value_counts()"
   ]
  },
  {
   "cell_type": "code",
   "execution_count": 80,
   "metadata": {
    "collapsed": false
   },
   "outputs": [],
   "source": [
    "trip_data['hour'].value_counts().to_csv(\"hour.csv\")"
   ]
  },
  {
   "cell_type": "code",
   "execution_count": 10,
   "metadata": {
    "collapsed": true
   },
   "outputs": [],
   "source": [
    "trip_data['date'] = trip_data['pickup_datetime'].apply(lambda x: x.split(\" \")[0].split(\"-\")[2])"
   ]
  },
  {
   "cell_type": "code",
   "execution_count": 21,
   "metadata": {
    "collapsed": true
   },
   "outputs": [],
   "source": [
    "trip_data.to_csv(\"trip_data_basic.csv\",index = False)"
   ]
  },
  {
   "cell_type": "code",
   "execution_count": 2,
   "metadata": {
    "collapsed": false
   },
   "outputs": [],
   "source": [
    "trip_data = pd.read_csv(\"trip_data_basic.csv\")"
   ]
  },
  {
   "cell_type": "code",
   "execution_count": 22,
   "metadata": {
    "collapsed": false
   },
   "outputs": [
    {
     "data": {
      "text/plain": [
       "20    570929\n",
       "12    564860\n",
       "13    555218\n",
       "5     554436\n",
       "19    544060\n",
       "26    539015\n",
       "27    538317\n",
       "6     533177\n",
       "4     532590\n",
       "18    526055\n",
       "11    525206\n",
       "25    518574\n",
       "3     513864\n",
       "10    503211\n",
       "17    501840\n",
       "24    500551\n",
       "23    498802\n",
       "2     495549\n",
       "14    485706\n",
       "21    483324\n",
       "16    481130\n",
       "30    480499\n",
       "9     477161\n",
       "28    467900\n",
       "7     461165\n",
       "15    461076\n",
       "29    459114\n",
       "22    457622\n",
       "8     440520\n",
       "1     428997\n",
       "Name: day, dtype: int64"
      ]
     },
     "execution_count": 22,
     "metadata": {},
     "output_type": "execute_result"
    }
   ],
   "source": [
    "trip_data.shape\n",
    "trip_data[\"date\"].value_counts()"
   ]
  },
  {
   "cell_type": "code",
   "execution_count": 3,
   "metadata": {
    "collapsed": true
   },
   "outputs": [],
   "source": [
    "#trip_data = trip_data.rename(columns={'day': 'date'})"
   ]
  },
  {
   "cell_type": "code",
   "execution_count": 3,
   "metadata": {
    "collapsed": false
   },
   "outputs": [
    {
     "data": {
      "text/plain": [
       "(15100468, 23)"
      ]
     },
     "execution_count": 3,
     "metadata": {},
     "output_type": "execute_result"
    }
   ],
   "source": [
    "trip_data.shape"
   ]
  },
  {
   "cell_type": "code",
   "execution_count": 4,
   "metadata": {
    "collapsed": false
   },
   "outputs": [
    {
     "name": "stderr",
     "output_type": "stream",
     "text": [
      "/usr/local/lib/python2.7/site-packages/sklearn/cross_validation.py:44: DeprecationWarning: This module was deprecated in version 0.18 in favor of the model_selection module into which all the refactored classes and functions are moved. Also note that the interface of the new CV iterators are different from that of this module. This module will be removed in 0.20.\n",
      "  \"This module will be removed in 0.20.\", DeprecationWarning)\n"
     ]
    }
   ],
   "source": [
    "from sklearn.cross_validation import train_test_split # 1\n",
    "trip_data_sample = trip_data.sample(frac=0.01, random_state=1)"
   ]
  },
  {
   "cell_type": "code",
   "execution_count": 5,
   "metadata": {
    "collapsed": false
   },
   "outputs": [
    {
     "data": {
      "text/plain": [
       "(151005, 23)"
      ]
     },
     "execution_count": 5,
     "metadata": {},
     "output_type": "execute_result"
    }
   ],
   "source": [
    "trip_data_sample.shape\n",
    "#del trip_data"
   ]
  },
  {
   "cell_type": "code",
   "execution_count": 6,
   "metadata": {
    "collapsed": true
   },
   "outputs": [],
   "source": [
    "del trip_data"
   ]
  },
  {
   "cell_type": "markdown",
   "metadata": {},
   "source": [
    "Adding the Zip Code to the Data"
   ]
  },
  {
   "cell_type": "code",
   "execution_count": 7,
   "metadata": {
    "collapsed": true
   },
   "outputs": [],
   "source": [
    "from uszipcode import ZipcodeSearchEngine\n",
    "search = ZipcodeSearchEngine()\n",
    "\n",
    "def cordnts_zip(a,b):\n",
    "    #print a,b\n",
    "    try:\n",
    "        location = search.by_coordinate(a,b)\n",
    "        lctn_zip = location[0][\"Zipcode\"]\n",
    "    except:\n",
    "        lctn_zip = ''\n",
    "    return lctn_zip"
   ]
  },
  {
   "cell_type": "code",
   "execution_count": 8,
   "metadata": {
    "collapsed": false
   },
   "outputs": [
    {
     "name": "stdout",
     "output_type": "stream",
     "text": [
      "1186.19365597\n"
     ]
    }
   ],
   "source": [
    "import time\n",
    "\n",
    "start = time.time()\n",
    "trip_data_sample['drop_zip'] = trip_data_sample.apply(lambda x:\\\n",
    "cordnts_zip(x['dropoff_latitude'],x['dropoff_longitude']),axis=1)\n",
    "end = time.time()\n",
    "print(end - start)\n",
    "\n"
   ]
  },
  {
   "cell_type": "code",
   "execution_count": 9,
   "metadata": {
    "collapsed": false
   },
   "outputs": [
    {
     "name": "stdout",
     "output_type": "stream",
     "text": [
      "1143.70161796\n"
     ]
    }
   ],
   "source": [
    "import time\n",
    "start = time.time()\n",
    "trip_data_sample['pickup_zip'] = trip_data_sample.apply(lambda x:\\\n",
    "cordnts_zip(x['pickup_latitude'],x['pickup_longitude']),axis=1)\n",
    "end = time.time()\n",
    "print(end - start)"
   ]
  },
  {
   "cell_type": "code",
   "execution_count": 14,
   "metadata": {
    "collapsed": true
   },
   "outputs": [],
   "source": [
    "def weekDay(row):\n",
    "    year, month, day = row['pickup_datetime'].split(' ')[0].split(\"-\")\n",
    "    offset = [0, 31, 59, 90, 120, 151, 181, 212, 243, 273, 304, 334]\n",
    "    \n",
    "    year = int(year)\n",
    "    month = int(month)\n",
    "    day = int(day)\n",
    "    \n",
    "    week   = ['Sunday', \n",
    "              'Monday', \n",
    "              'Tuesday', \n",
    "              'Wednesday', \n",
    "              'Thursday',  \n",
    "              'Friday', \n",
    "              'Saturday']\n",
    "    afterFeb = 1\n",
    "    if month > 2: afterFeb = 0\n",
    "    aux = year - 1700 - afterFeb\n",
    "    # dayOfWeek for 1700/1/1 = 5, Friday\n",
    "    dayOfWeek  = 5\n",
    "    # partial sum of days betweem current date and 1700/1/1\n",
    "    dayOfWeek += (aux + afterFeb) * 365                  \n",
    "    # leap year correction    \n",
    "    dayOfWeek += aux / 4 - aux / 100 + (aux + 100) / 400     \n",
    "    # sum monthly and day offsets\n",
    "    dayOfWeek += offset[month - 1] + (day - 1)               \n",
    "    dayOfWeek %= 7\n",
    "    return dayOfWeek"
   ]
  },
  {
   "cell_type": "code",
   "execution_count": 15,
   "metadata": {
    "collapsed": false
   },
   "outputs": [],
   "source": [
    "trip_data_sample['day'] = trip_data_sample.apply(weekDay, axis=1, raw=True)"
   ]
  },
  {
   "cell_type": "code",
   "execution_count": 16,
   "metadata": {
    "collapsed": true
   },
   "outputs": [],
   "source": [
    "trip_data_sample.to_csv(\"trip_data_1_per.csv\", index = False)"
   ]
  },
  {
   "cell_type": "code",
   "execution_count": 17,
   "metadata": {
    "collapsed": false
   },
   "outputs": [
    {
     "data": {
      "text/plain": [
       "10119    9404\n",
       "10012    7928\n",
       "10003    7626\n",
       "10020    6727\n",
       "10010    6433\n",
       "10014    6188\n",
       "10022    6019\n",
       "10016    5613\n",
       "10023    5152\n",
       "10065    5042\n",
       "10024    4323\n",
       "10021    4265\n",
       "10028    4119\n",
       "10128    4031\n",
       "10075    3723\n",
       "10036    3276\n",
       "10018    3185\n",
       "10009    3106\n",
       "10019    3042\n",
       "10111    2747\n",
       "10011    2624\n",
       "         2586\n",
       "10025    2559\n",
       "11430    2426\n",
       "10013    2353\n",
       "10173    2216\n",
       "10154    2012\n",
       "11371    1766\n",
       "10017    1740\n",
       "10167    1578\n",
       "         ... \n",
       "11417       1\n",
       "11418       1\n",
       "07090       1\n",
       "10607       1\n",
       "07071       1\n",
       "07070       1\n",
       "11021       1\n",
       "07014       1\n",
       "10805       1\n",
       "11207       1\n",
       "10462       1\n",
       "07608       1\n",
       "11429       1\n",
       "02535       1\n",
       "11423       1\n",
       "11422       1\n",
       "10310       1\n",
       "10467       1\n",
       "10465       1\n",
       "10460       1\n",
       "10801       1\n",
       "10468       1\n",
       "10469       1\n",
       "11598       1\n",
       "11040       1\n",
       "07002       1\n",
       "10803       1\n",
       "07737       1\n",
       "11432       1\n",
       "07648       1\n",
       "Name: pickup_zip, dtype: int64"
      ]
     },
     "execution_count": 17,
     "metadata": {},
     "output_type": "execute_result"
    }
   ],
   "source": [
    "trip_data_sample['pickup_zip'].value_counts()"
   ]
  },
  {
   "cell_type": "code",
   "execution_count": 21,
   "metadata": {
    "collapsed": false
   },
   "outputs": [
    {
     "data": {
      "text/plain": [
       "52.5301255"
      ]
     },
     "execution_count": 21,
     "metadata": {},
     "output_type": "execute_result"
    }
   ],
   "source": [
    "from geopy.geocoders import Nominatim\n",
    "geolocator = Nominatim()\n",
    "location = geolocator.geocode(\"10119\")\n",
    "location.latitude\n"
   ]
  },
  {
   "cell_type": "code",
   "execution_count": null,
   "metadata": {
    "collapsed": true
   },
   "outputs": [],
   "source": []
  },
  {
   "cell_type": "code",
   "execution_count": 28,
   "metadata": {
    "collapsed": false
   },
   "outputs": [
    {
     "data": {
      "text/html": [
       "<div>\n",
       "<table border=\"1\" class=\"dataframe\">\n",
       "  <thead>\n",
       "    <tr style=\"text-align: right;\">\n",
       "      <th></th>\n",
       "      <th>Zipcode</th>\n",
       "      <th>Trips</th>\n",
       "    </tr>\n",
       "  </thead>\n",
       "  <tbody>\n",
       "    <tr>\n",
       "      <th>0</th>\n",
       "      <td>10119.0</td>\n",
       "      <td>9404</td>\n",
       "    </tr>\n",
       "    <tr>\n",
       "      <th>1</th>\n",
       "      <td>10012.0</td>\n",
       "      <td>7928</td>\n",
       "    </tr>\n",
       "    <tr>\n",
       "      <th>2</th>\n",
       "      <td>10003.0</td>\n",
       "      <td>7626</td>\n",
       "    </tr>\n",
       "    <tr>\n",
       "      <th>3</th>\n",
       "      <td>10020.0</td>\n",
       "      <td>6727</td>\n",
       "    </tr>\n",
       "    <tr>\n",
       "      <th>4</th>\n",
       "      <td>10010.0</td>\n",
       "      <td>6433</td>\n",
       "    </tr>\n",
       "  </tbody>\n",
       "</table>\n",
       "</div>"
      ],
      "text/plain": [
       "   Zipcode  Trips\n",
       "0  10119.0   9404\n",
       "1  10012.0   7928\n",
       "2  10003.0   7626\n",
       "3  10020.0   6727\n",
       "4  10010.0   6433"
      ]
     },
     "execution_count": 28,
     "metadata": {},
     "output_type": "execute_result"
    }
   ],
   "source": [
    "l =pd.read_csv(\"busy.csv\")\n",
    "l.head()"
   ]
  },
  {
   "cell_type": "code",
   "execution_count": 31,
   "metadata": {
    "collapsed": false
   },
   "outputs": [],
   "source": [
    "from geopy.geocoders import Nominatim\n",
    "geolocator = Nominatim()\n",
    "\n",
    "def get_lat(row):\n",
    "    if row['Zipcode']:\n",
    "        location = geolocator.geocode(row['Zipcode'])\n",
    "        return location.latitude\n",
    "    else:\n",
    "        return 0.0\n",
    "\n",
    "def get_long(row):\n",
    "    if row['Zipcode']:\n",
    "        location = geolocator.geocode(row['Zipcode'])\n",
    "        return location.longitude\n",
    "    else:\n",
    "        return 0.0\n",
    "\n",
    "l[\"latitude\"] = l.apply(get_lat,axis=1, raw=True)\n"
   ]
  },
  {
   "cell_type": "code",
   "execution_count": 33,
   "metadata": {
    "collapsed": false
   },
   "outputs": [],
   "source": [
    "l[\"longitude\"] = l.apply(get_long,axis=1, raw=True)"
   ]
  },
  {
   "cell_type": "markdown",
   "metadata": {},
   "source": [
    "Remove where the lat and long of pickup and drop of are zero"
   ]
  },
  {
   "cell_type": "code",
   "execution_count": 36,
   "metadata": {
    "collapsed": true
   },
   "outputs": [],
   "source": [
    "l = l[(l[\"latitude\"]!=0.0) & (l[\"longitude\"]!=0.0)]\n",
    "l.to_csv(\"busiest2.csv\",index = False)"
   ]
  },
  {
   "cell_type": "code",
   "execution_count": 37,
   "metadata": {
    "collapsed": true
   },
   "outputs": [],
   "source": [
    "trip_data_sample['mins'] = trip_data_sample['trip_time_in_secs'].apply(lambda x: x/60)"
   ]
  },
  {
   "cell_type": "code",
   "execution_count": 38,
   "metadata": {
    "collapsed": false
   },
   "outputs": [
    {
     "data": {
      "text/plain": [
       "(151005, 26)"
      ]
     },
     "execution_count": 38,
     "metadata": {},
     "output_type": "execute_result"
    }
   ],
   "source": [
    "trip_data_sample.shape"
   ]
  },
  {
   "cell_type": "code",
   "execution_count": 39,
   "metadata": {
    "collapsed": false
   },
   "outputs": [
    {
     "data": {
      "text/plain": [
       "['medallion',\n",
       " 'hack_license',\n",
       " 'vendor_id',\n",
       " 'rate_code',\n",
       " 'store_and_fwd_flag',\n",
       " 'pickup_datetime',\n",
       " 'dropoff_datetime',\n",
       " 'passenger_count',\n",
       " 'trip_time_in_secs',\n",
       " 'trip_distance',\n",
       " 'pickup_longitude',\n",
       " 'pickup_latitude',\n",
       " 'dropoff_longitude',\n",
       " 'dropoff_latitude',\n",
       " 'payment_type',\n",
       " 'fare_amount',\n",
       " 'surcharge',\n",
       " 'mta_tax',\n",
       " 'tip_amount',\n",
       " 'tolls_amount',\n",
       " 'total_amount',\n",
       " 'hour',\n",
       " 'day',\n",
       " 'drop_zip',\n",
       " 'pickup_zip',\n",
       " 'mins']"
      ]
     },
     "execution_count": 39,
     "metadata": {},
     "output_type": "execute_result"
    }
   ],
   "source": [
    "trip_data_sample.columns.tolist()"
   ]
  },
  {
   "cell_type": "code",
   "execution_count": 50,
   "metadata": {
    "collapsed": true
   },
   "outputs": [],
   "source": [
    "trip_data_sample = trip_data_sample[(trip_data_sample[\"drop_zip\"]!=\"\") & (trip_data_sample[\"pickup_zip\"]!=\"\") ]"
   ]
  },
  {
   "cell_type": "code",
   "execution_count": 51,
   "metadata": {
    "collapsed": false
   },
   "outputs": [
    {
     "data": {
      "text/plain": [
       "(148245, 26)"
      ]
     },
     "execution_count": 51,
     "metadata": {},
     "output_type": "execute_result"
    }
   ],
   "source": [
    "trip_data_sample.shape"
   ]
  },
  {
   "cell_type": "code",
   "execution_count": 63,
   "metadata": {
    "collapsed": false
   },
   "outputs": [
    {
     "data": {
      "text/html": [
       "<div>\n",
       "<table border=\"1\" class=\"dataframe\">\n",
       "  <thead>\n",
       "    <tr style=\"text-align: right;\">\n",
       "      <th></th>\n",
       "      <th>drop_zip</th>\n",
       "      <th>pickup_zip</th>\n",
       "      <th>std</th>\n",
       "      <th>sum</th>\n",
       "      <th>mean</th>\n",
       "    </tr>\n",
       "  </thead>\n",
       "  <tbody>\n",
       "    <tr>\n",
       "      <th>3117</th>\n",
       "      <td>10112</td>\n",
       "      <td>11104</td>\n",
       "      <td>52.325902</td>\n",
       "      <td>106</td>\n",
       "      <td>53.000000</td>\n",
       "    </tr>\n",
       "    <tr>\n",
       "      <th>1913</th>\n",
       "      <td>10026</td>\n",
       "      <td>10173</td>\n",
       "      <td>47.095458</td>\n",
       "      <td>245</td>\n",
       "      <td>30.625000</td>\n",
       "    </tr>\n",
       "    <tr>\n",
       "      <th>7169</th>\n",
       "      <td>11430</td>\n",
       "      <td>11436</td>\n",
       "      <td>46.676547</td>\n",
       "      <td>214</td>\n",
       "      <td>42.800000</td>\n",
       "    </tr>\n",
       "    <tr>\n",
       "      <th>5611</th>\n",
       "      <td>11218</td>\n",
       "      <td>10019</td>\n",
       "      <td>33.941125</td>\n",
       "      <td>112</td>\n",
       "      <td>56.000000</td>\n",
       "    </tr>\n",
       "    <tr>\n",
       "      <th>7181</th>\n",
       "      <td>11432</td>\n",
       "      <td>10278</td>\n",
       "      <td>31.112698</td>\n",
       "      <td>98</td>\n",
       "      <td>49.000000</td>\n",
       "    </tr>\n",
       "    <tr>\n",
       "      <th>5366</th>\n",
       "      <td>11212</td>\n",
       "      <td>10119</td>\n",
       "      <td>29.466082</td>\n",
       "      <td>181</td>\n",
       "      <td>45.250000</td>\n",
       "    </tr>\n",
       "    <tr>\n",
       "      <th>259</th>\n",
       "      <td>10001</td>\n",
       "      <td>11371</td>\n",
       "      <td>29.161619</td>\n",
       "      <td>264</td>\n",
       "      <td>44.000000</td>\n",
       "    </tr>\n",
       "    <tr>\n",
       "      <th>1404</th>\n",
       "      <td>10019</td>\n",
       "      <td>11436</td>\n",
       "      <td>27.577164</td>\n",
       "      <td>115</td>\n",
       "      <td>57.500000</td>\n",
       "    </tr>\n",
       "    <tr>\n",
       "      <th>5976</th>\n",
       "      <td>11230</td>\n",
       "      <td>11371</td>\n",
       "      <td>27.221315</td>\n",
       "      <td>165</td>\n",
       "      <td>55.000000</td>\n",
       "    </tr>\n",
       "    <tr>\n",
       "      <th>6660</th>\n",
       "      <td>11373</td>\n",
       "      <td>10016</td>\n",
       "      <td>27.059194</td>\n",
       "      <td>154</td>\n",
       "      <td>30.800000</td>\n",
       "    </tr>\n",
       "    <tr>\n",
       "      <th>420</th>\n",
       "      <td>10004</td>\n",
       "      <td>10004</td>\n",
       "      <td>26.885288</td>\n",
       "      <td>257</td>\n",
       "      <td>13.526316</td>\n",
       "    </tr>\n",
       "    <tr>\n",
       "      <th>2372</th>\n",
       "      <td>10035</td>\n",
       "      <td>10011</td>\n",
       "      <td>26.870058</td>\n",
       "      <td>72</td>\n",
       "      <td>36.000000</td>\n",
       "    </tr>\n",
       "    <tr>\n",
       "      <th>880</th>\n",
       "      <td>10011</td>\n",
       "      <td>11415</td>\n",
       "      <td>26.870058</td>\n",
       "      <td>100</td>\n",
       "      <td>50.000000</td>\n",
       "    </tr>\n",
       "    <tr>\n",
       "      <th>3908</th>\n",
       "      <td>10280</td>\n",
       "      <td>10006</td>\n",
       "      <td>26.000000</td>\n",
       "      <td>57</td>\n",
       "      <td>19.000000</td>\n",
       "    </tr>\n",
       "    <tr>\n",
       "      <th>6335</th>\n",
       "      <td>11364</td>\n",
       "      <td>11430</td>\n",
       "      <td>25.455844</td>\n",
       "      <td>76</td>\n",
       "      <td>38.000000</td>\n",
       "    </tr>\n",
       "    <tr>\n",
       "      <th>3211</th>\n",
       "      <td>10119</td>\n",
       "      <td>10033</td>\n",
       "      <td>25.455844</td>\n",
       "      <td>74</td>\n",
       "      <td>37.000000</td>\n",
       "    </tr>\n",
       "    <tr>\n",
       "      <th>729</th>\n",
       "      <td>10009</td>\n",
       "      <td>11430</td>\n",
       "      <td>24.064382</td>\n",
       "      <td>1470</td>\n",
       "      <td>43.235294</td>\n",
       "    </tr>\n",
       "    <tr>\n",
       "      <th>3889</th>\n",
       "      <td>10278</td>\n",
       "      <td>11106</td>\n",
       "      <td>24.041631</td>\n",
       "      <td>42</td>\n",
       "      <td>21.000000</td>\n",
       "    </tr>\n",
       "    <tr>\n",
       "      <th>3740</th>\n",
       "      <td>10174</td>\n",
       "      <td>10037</td>\n",
       "      <td>24.041631</td>\n",
       "      <td>60</td>\n",
       "      <td>30.000000</td>\n",
       "    </tr>\n",
       "    <tr>\n",
       "      <th>3833</th>\n",
       "      <td>10199</td>\n",
       "      <td>11371</td>\n",
       "      <td>23.479779</td>\n",
       "      <td>168</td>\n",
       "      <td>33.600000</td>\n",
       "    </tr>\n",
       "    <tr>\n",
       "      <th>5706</th>\n",
       "      <td>11221</td>\n",
       "      <td>10016</td>\n",
       "      <td>23.334524</td>\n",
       "      <td>85</td>\n",
       "      <td>42.500000</td>\n",
       "    </tr>\n",
       "    <tr>\n",
       "      <th>82</th>\n",
       "      <td>07114</td>\n",
       "      <td>10012</td>\n",
       "      <td>23.028244</td>\n",
       "      <td>158</td>\n",
       "      <td>31.600000</td>\n",
       "    </tr>\n",
       "    <tr>\n",
       "      <th>2477</th>\n",
       "      <td>10036</td>\n",
       "      <td>11222</td>\n",
       "      <td>22.627417</td>\n",
       "      <td>70</td>\n",
       "      <td>35.000000</td>\n",
       "    </tr>\n",
       "    <tr>\n",
       "      <th>5827</th>\n",
       "      <td>11224</td>\n",
       "      <td>10020</td>\n",
       "      <td>22.627417</td>\n",
       "      <td>96</td>\n",
       "      <td>48.000000</td>\n",
       "    </tr>\n",
       "    <tr>\n",
       "      <th>6409</th>\n",
       "      <td>11368</td>\n",
       "      <td>11374</td>\n",
       "      <td>22.627417</td>\n",
       "      <td>46</td>\n",
       "      <td>23.000000</td>\n",
       "    </tr>\n",
       "    <tr>\n",
       "      <th>2886</th>\n",
       "      <td>10069</td>\n",
       "      <td>11430</td>\n",
       "      <td>21.594752</td>\n",
       "      <td>163</td>\n",
       "      <td>54.333333</td>\n",
       "    </tr>\n",
       "    <tr>\n",
       "      <th>2564</th>\n",
       "      <td>10038</td>\n",
       "      <td>10023</td>\n",
       "      <td>21.253235</td>\n",
       "      <td>149</td>\n",
       "      <td>29.800000</td>\n",
       "    </tr>\n",
       "    <tr>\n",
       "      <th>5929</th>\n",
       "      <td>11228</td>\n",
       "      <td>11369</td>\n",
       "      <td>21.213203</td>\n",
       "      <td>84</td>\n",
       "      <td>42.000000</td>\n",
       "    </tr>\n",
       "    <tr>\n",
       "      <th>4329</th>\n",
       "      <td>10463</td>\n",
       "      <td>11430</td>\n",
       "      <td>21.126603</td>\n",
       "      <td>131</td>\n",
       "      <td>43.666667</td>\n",
       "    </tr>\n",
       "    <tr>\n",
       "      <th>5142</th>\n",
       "      <td>11205</td>\n",
       "      <td>11369</td>\n",
       "      <td>20.579116</td>\n",
       "      <td>155</td>\n",
       "      <td>31.000000</td>\n",
       "    </tr>\n",
       "    <tr>\n",
       "      <th>...</th>\n",
       "      <td>...</td>\n",
       "      <td>...</td>\n",
       "      <td>...</td>\n",
       "      <td>...</td>\n",
       "      <td>...</td>\n",
       "    </tr>\n",
       "    <tr>\n",
       "      <th>7270</th>\n",
       "      <td>11566</td>\n",
       "      <td>11430</td>\n",
       "      <td>NaN</td>\n",
       "      <td>31</td>\n",
       "      <td>31.000000</td>\n",
       "    </tr>\n",
       "    <tr>\n",
       "      <th>7271</th>\n",
       "      <td>11568</td>\n",
       "      <td>11430</td>\n",
       "      <td>NaN</td>\n",
       "      <td>38</td>\n",
       "      <td>38.000000</td>\n",
       "    </tr>\n",
       "    <tr>\n",
       "      <th>7274</th>\n",
       "      <td>11575</td>\n",
       "      <td>11430</td>\n",
       "      <td>NaN</td>\n",
       "      <td>19</td>\n",
       "      <td>19.000000</td>\n",
       "    </tr>\n",
       "    <tr>\n",
       "      <th>7275</th>\n",
       "      <td>11576</td>\n",
       "      <td>11369</td>\n",
       "      <td>NaN</td>\n",
       "      <td>45</td>\n",
       "      <td>45.000000</td>\n",
       "    </tr>\n",
       "    <tr>\n",
       "      <th>7276</th>\n",
       "      <td>11576</td>\n",
       "      <td>11576</td>\n",
       "      <td>NaN</td>\n",
       "      <td>1</td>\n",
       "      <td>1.000000</td>\n",
       "    </tr>\n",
       "    <tr>\n",
       "      <th>7277</th>\n",
       "      <td>11580</td>\n",
       "      <td>11369</td>\n",
       "      <td>NaN</td>\n",
       "      <td>33</td>\n",
       "      <td>33.000000</td>\n",
       "    </tr>\n",
       "    <tr>\n",
       "      <th>7280</th>\n",
       "      <td>11590</td>\n",
       "      <td>11430</td>\n",
       "      <td>NaN</td>\n",
       "      <td>26</td>\n",
       "      <td>26.000000</td>\n",
       "    </tr>\n",
       "    <tr>\n",
       "      <th>7281</th>\n",
       "      <td>11596</td>\n",
       "      <td>10017</td>\n",
       "      <td>NaN</td>\n",
       "      <td>48</td>\n",
       "      <td>48.000000</td>\n",
       "    </tr>\n",
       "    <tr>\n",
       "      <th>7283</th>\n",
       "      <td>11598</td>\n",
       "      <td>11598</td>\n",
       "      <td>NaN</td>\n",
       "      <td>1</td>\n",
       "      <td>1.000000</td>\n",
       "    </tr>\n",
       "    <tr>\n",
       "      <th>7285</th>\n",
       "      <td>11692</td>\n",
       "      <td>10003</td>\n",
       "      <td>NaN</td>\n",
       "      <td>48</td>\n",
       "      <td>48.000000</td>\n",
       "    </tr>\n",
       "    <tr>\n",
       "      <th>7286</th>\n",
       "      <td>11692</td>\n",
       "      <td>10119</td>\n",
       "      <td>NaN</td>\n",
       "      <td>51</td>\n",
       "      <td>51.000000</td>\n",
       "    </tr>\n",
       "    <tr>\n",
       "      <th>7287</th>\n",
       "      <td>11692</td>\n",
       "      <td>11205</td>\n",
       "      <td>NaN</td>\n",
       "      <td>33</td>\n",
       "      <td>33.000000</td>\n",
       "    </tr>\n",
       "    <tr>\n",
       "      <th>7288</th>\n",
       "      <td>11692</td>\n",
       "      <td>11371</td>\n",
       "      <td>NaN</td>\n",
       "      <td>65</td>\n",
       "      <td>65.000000</td>\n",
       "    </tr>\n",
       "    <tr>\n",
       "      <th>7290</th>\n",
       "      <td>11694</td>\n",
       "      <td>11369</td>\n",
       "      <td>NaN</td>\n",
       "      <td>45</td>\n",
       "      <td>45.000000</td>\n",
       "    </tr>\n",
       "    <tr>\n",
       "      <th>7293</th>\n",
       "      <td>11702</td>\n",
       "      <td>11430</td>\n",
       "      <td>NaN</td>\n",
       "      <td>79</td>\n",
       "      <td>79.000000</td>\n",
       "    </tr>\n",
       "    <tr>\n",
       "      <th>7294</th>\n",
       "      <td>11702</td>\n",
       "      <td>11701</td>\n",
       "      <td>NaN</td>\n",
       "      <td>5</td>\n",
       "      <td>5.000000</td>\n",
       "    </tr>\n",
       "    <tr>\n",
       "      <th>7295</th>\n",
       "      <td>11710</td>\n",
       "      <td>10020</td>\n",
       "      <td>NaN</td>\n",
       "      <td>43</td>\n",
       "      <td>43.000000</td>\n",
       "    </tr>\n",
       "    <tr>\n",
       "      <th>7296</th>\n",
       "      <td>11710</td>\n",
       "      <td>11436</td>\n",
       "      <td>NaN</td>\n",
       "      <td>25</td>\n",
       "      <td>25.000000</td>\n",
       "    </tr>\n",
       "    <tr>\n",
       "      <th>7297</th>\n",
       "      <td>11714</td>\n",
       "      <td>11714</td>\n",
       "      <td>NaN</td>\n",
       "      <td>0</td>\n",
       "      <td>0.000000</td>\n",
       "    </tr>\n",
       "    <tr>\n",
       "      <th>7298</th>\n",
       "      <td>11747</td>\n",
       "      <td>11747</td>\n",
       "      <td>NaN</td>\n",
       "      <td>0</td>\n",
       "      <td>0.000000</td>\n",
       "    </tr>\n",
       "    <tr>\n",
       "      <th>7299</th>\n",
       "      <td>11753</td>\n",
       "      <td>11371</td>\n",
       "      <td>NaN</td>\n",
       "      <td>38</td>\n",
       "      <td>38.000000</td>\n",
       "    </tr>\n",
       "    <tr>\n",
       "      <th>7300</th>\n",
       "      <td>11756</td>\n",
       "      <td>11756</td>\n",
       "      <td>NaN</td>\n",
       "      <td>1</td>\n",
       "      <td>1.000000</td>\n",
       "    </tr>\n",
       "    <tr>\n",
       "      <th>7301</th>\n",
       "      <td>11758</td>\n",
       "      <td>11758</td>\n",
       "      <td>NaN</td>\n",
       "      <td>0</td>\n",
       "      <td>0.000000</td>\n",
       "    </tr>\n",
       "    <tr>\n",
       "      <th>7302</th>\n",
       "      <td>11762</td>\n",
       "      <td>11430</td>\n",
       "      <td>NaN</td>\n",
       "      <td>27</td>\n",
       "      <td>27.000000</td>\n",
       "    </tr>\n",
       "    <tr>\n",
       "      <th>7303</th>\n",
       "      <td>11804</td>\n",
       "      <td>11430</td>\n",
       "      <td>NaN</td>\n",
       "      <td>34</td>\n",
       "      <td>34.000000</td>\n",
       "    </tr>\n",
       "    <tr>\n",
       "      <th>7304</th>\n",
       "      <td>12446</td>\n",
       "      <td>12446</td>\n",
       "      <td>NaN</td>\n",
       "      <td>26</td>\n",
       "      <td>26.000000</td>\n",
       "    </tr>\n",
       "    <tr>\n",
       "      <th>7305</th>\n",
       "      <td>12878</td>\n",
       "      <td>10128</td>\n",
       "      <td>NaN</td>\n",
       "      <td>12</td>\n",
       "      <td>12.000000</td>\n",
       "    </tr>\n",
       "    <tr>\n",
       "      <th>7306</th>\n",
       "      <td>16226</td>\n",
       "      <td>10010</td>\n",
       "      <td>NaN</td>\n",
       "      <td>9</td>\n",
       "      <td>9.000000</td>\n",
       "    </tr>\n",
       "    <tr>\n",
       "      <th>7307</th>\n",
       "      <td>17841</td>\n",
       "      <td>10020</td>\n",
       "      <td>NaN</td>\n",
       "      <td>8</td>\n",
       "      <td>8.000000</td>\n",
       "    </tr>\n",
       "    <tr>\n",
       "      <th>7308</th>\n",
       "      <td>27522</td>\n",
       "      <td>10119</td>\n",
       "      <td>NaN</td>\n",
       "      <td>18</td>\n",
       "      <td>18.000000</td>\n",
       "    </tr>\n",
       "  </tbody>\n",
       "</table>\n",
       "<p>7309 rows × 5 columns</p>\n",
       "</div>"
      ],
      "text/plain": [
       "     drop_zip pickup_zip        std   sum       mean\n",
       "3117    10112      11104  52.325902   106  53.000000\n",
       "1913    10026      10173  47.095458   245  30.625000\n",
       "7169    11430      11436  46.676547   214  42.800000\n",
       "5611    11218      10019  33.941125   112  56.000000\n",
       "7181    11432      10278  31.112698    98  49.000000\n",
       "5366    11212      10119  29.466082   181  45.250000\n",
       "259     10001      11371  29.161619   264  44.000000\n",
       "1404    10019      11436  27.577164   115  57.500000\n",
       "5976    11230      11371  27.221315   165  55.000000\n",
       "6660    11373      10016  27.059194   154  30.800000\n",
       "420     10004      10004  26.885288   257  13.526316\n",
       "2372    10035      10011  26.870058    72  36.000000\n",
       "880     10011      11415  26.870058   100  50.000000\n",
       "3908    10280      10006  26.000000    57  19.000000\n",
       "6335    11364      11430  25.455844    76  38.000000\n",
       "3211    10119      10033  25.455844    74  37.000000\n",
       "729     10009      11430  24.064382  1470  43.235294\n",
       "3889    10278      11106  24.041631    42  21.000000\n",
       "3740    10174      10037  24.041631    60  30.000000\n",
       "3833    10199      11371  23.479779   168  33.600000\n",
       "5706    11221      10016  23.334524    85  42.500000\n",
       "82      07114      10012  23.028244   158  31.600000\n",
       "2477    10036      11222  22.627417    70  35.000000\n",
       "5827    11224      10020  22.627417    96  48.000000\n",
       "6409    11368      11374  22.627417    46  23.000000\n",
       "2886    10069      11430  21.594752   163  54.333333\n",
       "2564    10038      10023  21.253235   149  29.800000\n",
       "5929    11228      11369  21.213203    84  42.000000\n",
       "4329    10463      11430  21.126603   131  43.666667\n",
       "5142    11205      11369  20.579116   155  31.000000\n",
       "...       ...        ...        ...   ...        ...\n",
       "7270    11566      11430        NaN    31  31.000000\n",
       "7271    11568      11430        NaN    38  38.000000\n",
       "7274    11575      11430        NaN    19  19.000000\n",
       "7275    11576      11369        NaN    45  45.000000\n",
       "7276    11576      11576        NaN     1   1.000000\n",
       "7277    11580      11369        NaN    33  33.000000\n",
       "7280    11590      11430        NaN    26  26.000000\n",
       "7281    11596      10017        NaN    48  48.000000\n",
       "7283    11598      11598        NaN     1   1.000000\n",
       "7285    11692      10003        NaN    48  48.000000\n",
       "7286    11692      10119        NaN    51  51.000000\n",
       "7287    11692      11205        NaN    33  33.000000\n",
       "7288    11692      11371        NaN    65  65.000000\n",
       "7290    11694      11369        NaN    45  45.000000\n",
       "7293    11702      11430        NaN    79  79.000000\n",
       "7294    11702      11701        NaN     5   5.000000\n",
       "7295    11710      10020        NaN    43  43.000000\n",
       "7296    11710      11436        NaN    25  25.000000\n",
       "7297    11714      11714        NaN     0   0.000000\n",
       "7298    11747      11747        NaN     0   0.000000\n",
       "7299    11753      11371        NaN    38  38.000000\n",
       "7300    11756      11756        NaN     1   1.000000\n",
       "7301    11758      11758        NaN     0   0.000000\n",
       "7302    11762      11430        NaN    27  27.000000\n",
       "7303    11804      11430        NaN    34  34.000000\n",
       "7304    12446      12446        NaN    26  26.000000\n",
       "7305    12878      10128        NaN    12  12.000000\n",
       "7306    16226      10010        NaN     9   9.000000\n",
       "7307    17841      10020        NaN     8   8.000000\n",
       "7308    27522      10119        NaN    18  18.000000\n",
       "\n",
       "[7309 rows x 5 columns]"
      ]
     },
     "execution_count": 63,
     "metadata": {},
     "output_type": "execute_result"
    }
   ],
   "source": [
    "trip_data_sample.groupby(['drop_zip', \"pickup_zip\"], as_index=False).mins.agg({'sum' : np.sum,'std': np.std,\\\n",
    "                                                                               'mean': np.mean }).\\\n",
    "                                                                                    sort('std',ascending=False)"
   ]
  },
  {
   "cell_type": "code",
   "execution_count": 70,
   "metadata": {
    "collapsed": false
   },
   "outputs": [],
   "source": [
    "l = trip_data_sample.groupby(['drop_zip', \"pickup_zip\"], as_index=False).fare_amount.agg({'sum' : np.sum,'std': np.std,\\\n",
    "                                                                               'mean': np.mean }).\\\n",
    "                                                                                    sort('std')"
   ]
  },
  {
   "cell_type": "code",
   "execution_count": 72,
   "metadata": {
    "collapsed": false
   },
   "outputs": [],
   "source": [
    "l.to_csv(\"trip_consistent_fare.csv\")"
   ]
  },
  {
   "cell_type": "code",
   "execution_count": 71,
   "metadata": {
    "collapsed": false
   },
   "outputs": [
    {
     "data": {
      "text/html": [
       "<div>\n",
       "<table border=\"1\" class=\"dataframe\">\n",
       "  <thead>\n",
       "    <tr style=\"text-align: right;\">\n",
       "      <th></th>\n",
       "      <th>drop_zip</th>\n",
       "      <th>pickup_zip</th>\n",
       "      <th>std</th>\n",
       "      <th>sum</th>\n",
       "      <th>mean</th>\n",
       "    </tr>\n",
       "  </thead>\n",
       "  <tbody>\n",
       "    <tr>\n",
       "      <th>7109</th>\n",
       "      <td>11430</td>\n",
       "      <td>10013</td>\n",
       "      <td>0.0</td>\n",
       "      <td>676.00</td>\n",
       "      <td>52.00</td>\n",
       "    </tr>\n",
       "    <tr>\n",
       "      <th>5117</th>\n",
       "      <td>11205</td>\n",
       "      <td>10103</td>\n",
       "      <td>0.0</td>\n",
       "      <td>29.00</td>\n",
       "      <td>14.50</td>\n",
       "    </tr>\n",
       "    <tr>\n",
       "      <th>6713</th>\n",
       "      <td>11374</td>\n",
       "      <td>10029</td>\n",
       "      <td>0.0</td>\n",
       "      <td>63.00</td>\n",
       "      <td>31.50</td>\n",
       "    </tr>\n",
       "    <tr>\n",
       "      <th>6470</th>\n",
       "      <td>11369</td>\n",
       "      <td>11105</td>\n",
       "      <td>0.0</td>\n",
       "      <td>37.50</td>\n",
       "      <td>12.50</td>\n",
       "    </tr>\n",
       "    <tr>\n",
       "      <th>7103</th>\n",
       "      <td>11430</td>\n",
       "      <td>10006</td>\n",
       "      <td>0.0</td>\n",
       "      <td>260.00</td>\n",
       "      <td>52.00</td>\n",
       "    </tr>\n",
       "    <tr>\n",
       "      <th>7102</th>\n",
       "      <td>11430</td>\n",
       "      <td>10004</td>\n",
       "      <td>0.0</td>\n",
       "      <td>520.00</td>\n",
       "      <td>52.00</td>\n",
       "    </tr>\n",
       "    <tr>\n",
       "      <th>7101</th>\n",
       "      <td>11430</td>\n",
       "      <td>10003</td>\n",
       "      <td>0.0</td>\n",
       "      <td>1872.00</td>\n",
       "      <td>52.00</td>\n",
       "    </tr>\n",
       "    <tr>\n",
       "      <th>2482</th>\n",
       "      <td>10036</td>\n",
       "      <td>11430</td>\n",
       "      <td>0.0</td>\n",
       "      <td>2184.00</td>\n",
       "      <td>52.00</td>\n",
       "    </tr>\n",
       "    <tr>\n",
       "      <th>2483</th>\n",
       "      <td>10036</td>\n",
       "      <td>11436</td>\n",
       "      <td>0.0</td>\n",
       "      <td>156.00</td>\n",
       "      <td>52.00</td>\n",
       "    </tr>\n",
       "    <tr>\n",
       "      <th>7099</th>\n",
       "      <td>11430</td>\n",
       "      <td>10001</td>\n",
       "      <td>0.0</td>\n",
       "      <td>312.00</td>\n",
       "      <td>52.00</td>\n",
       "    </tr>\n",
       "    <tr>\n",
       "      <th>2487</th>\n",
       "      <td>10037</td>\n",
       "      <td>10004</td>\n",
       "      <td>0.0</td>\n",
       "      <td>64.00</td>\n",
       "      <td>32.00</td>\n",
       "    </tr>\n",
       "    <tr>\n",
       "      <th>2488</th>\n",
       "      <td>10037</td>\n",
       "      <td>10007</td>\n",
       "      <td>0.0</td>\n",
       "      <td>59.00</td>\n",
       "      <td>29.50</td>\n",
       "    </tr>\n",
       "    <tr>\n",
       "      <th>2973</th>\n",
       "      <td>10103</td>\n",
       "      <td>10065</td>\n",
       "      <td>0.0</td>\n",
       "      <td>35.00</td>\n",
       "      <td>17.50</td>\n",
       "    </tr>\n",
       "    <tr>\n",
       "      <th>658</th>\n",
       "      <td>10007</td>\n",
       "      <td>11430</td>\n",
       "      <td>0.0</td>\n",
       "      <td>936.00</td>\n",
       "      <td>52.00</td>\n",
       "    </tr>\n",
       "    <tr>\n",
       "      <th>5096</th>\n",
       "      <td>11205</td>\n",
       "      <td>10004</td>\n",
       "      <td>0.0</td>\n",
       "      <td>36.00</td>\n",
       "      <td>18.00</td>\n",
       "    </tr>\n",
       "    <tr>\n",
       "      <th>6441</th>\n",
       "      <td>11369</td>\n",
       "      <td>10032</td>\n",
       "      <td>0.0</td>\n",
       "      <td>55.00</td>\n",
       "      <td>27.50</td>\n",
       "    </tr>\n",
       "    <tr>\n",
       "      <th>3900</th>\n",
       "      <td>10278</td>\n",
       "      <td>11430</td>\n",
       "      <td>0.0</td>\n",
       "      <td>780.00</td>\n",
       "      <td>52.00</td>\n",
       "    </tr>\n",
       "    <tr>\n",
       "      <th>3841</th>\n",
       "      <td>10278</td>\n",
       "      <td>10005</td>\n",
       "      <td>0.0</td>\n",
       "      <td>17.00</td>\n",
       "      <td>8.50</td>\n",
       "    </tr>\n",
       "    <tr>\n",
       "      <th>2116</th>\n",
       "      <td>10029</td>\n",
       "      <td>11430</td>\n",
       "      <td>0.0</td>\n",
       "      <td>416.00</td>\n",
       "      <td>52.00</td>\n",
       "    </tr>\n",
       "    <tr>\n",
       "      <th>880</th>\n",
       "      <td>10011</td>\n",
       "      <td>11415</td>\n",
       "      <td>0.0</td>\n",
       "      <td>104.00</td>\n",
       "      <td>52.00</td>\n",
       "    </tr>\n",
       "    <tr>\n",
       "      <th>7114</th>\n",
       "      <td>11430</td>\n",
       "      <td>10019</td>\n",
       "      <td>0.0</td>\n",
       "      <td>1196.00</td>\n",
       "      <td>52.00</td>\n",
       "    </tr>\n",
       "    <tr>\n",
       "      <th>4243</th>\n",
       "      <td>10459</td>\n",
       "      <td>10016</td>\n",
       "      <td>0.0</td>\n",
       "      <td>52.00</td>\n",
       "      <td>26.00</td>\n",
       "    </tr>\n",
       "    <tr>\n",
       "      <th>7113</th>\n",
       "      <td>11430</td>\n",
       "      <td>10018</td>\n",
       "      <td>0.0</td>\n",
       "      <td>1456.00</td>\n",
       "      <td>52.00</td>\n",
       "    </tr>\n",
       "    <tr>\n",
       "      <th>6526</th>\n",
       "      <td>11370</td>\n",
       "      <td>11377</td>\n",
       "      <td>0.0</td>\n",
       "      <td>16.00</td>\n",
       "      <td>8.00</td>\n",
       "    </tr>\n",
       "    <tr>\n",
       "      <th>7112</th>\n",
       "      <td>11430</td>\n",
       "      <td>10017</td>\n",
       "      <td>0.0</td>\n",
       "      <td>676.00</td>\n",
       "      <td>52.00</td>\n",
       "    </tr>\n",
       "    <tr>\n",
       "      <th>7111</th>\n",
       "      <td>11430</td>\n",
       "      <td>10016</td>\n",
       "      <td>0.0</td>\n",
       "      <td>2392.00</td>\n",
       "      <td>52.00</td>\n",
       "    </tr>\n",
       "    <tr>\n",
       "      <th>3065</th>\n",
       "      <td>10111</td>\n",
       "      <td>11436</td>\n",
       "      <td>0.0</td>\n",
       "      <td>104.00</td>\n",
       "      <td>52.00</td>\n",
       "    </tr>\n",
       "    <tr>\n",
       "      <th>7110</th>\n",
       "      <td>11430</td>\n",
       "      <td>10014</td>\n",
       "      <td>0.0</td>\n",
       "      <td>1300.00</td>\n",
       "      <td>52.00</td>\n",
       "    </tr>\n",
       "    <tr>\n",
       "      <th>6827</th>\n",
       "      <td>11377</td>\n",
       "      <td>11102</td>\n",
       "      <td>0.0</td>\n",
       "      <td>22.00</td>\n",
       "      <td>11.00</td>\n",
       "    </tr>\n",
       "    <tr>\n",
       "      <th>7108</th>\n",
       "      <td>11430</td>\n",
       "      <td>10012</td>\n",
       "      <td>0.0</td>\n",
       "      <td>1612.00</td>\n",
       "      <td>52.00</td>\n",
       "    </tr>\n",
       "    <tr>\n",
       "      <th>...</th>\n",
       "      <td>...</td>\n",
       "      <td>...</td>\n",
       "      <td>...</td>\n",
       "      <td>...</td>\n",
       "      <td>...</td>\n",
       "    </tr>\n",
       "    <tr>\n",
       "      <th>7270</th>\n",
       "      <td>11566</td>\n",
       "      <td>11430</td>\n",
       "      <td>NaN</td>\n",
       "      <td>83.00</td>\n",
       "      <td>83.00</td>\n",
       "    </tr>\n",
       "    <tr>\n",
       "      <th>7271</th>\n",
       "      <td>11568</td>\n",
       "      <td>11430</td>\n",
       "      <td>NaN</td>\n",
       "      <td>110.50</td>\n",
       "      <td>110.50</td>\n",
       "    </tr>\n",
       "    <tr>\n",
       "      <th>7274</th>\n",
       "      <td>11575</td>\n",
       "      <td>11430</td>\n",
       "      <td>NaN</td>\n",
       "      <td>56.50</td>\n",
       "      <td>56.50</td>\n",
       "    </tr>\n",
       "    <tr>\n",
       "      <th>7275</th>\n",
       "      <td>11576</td>\n",
       "      <td>11369</td>\n",
       "      <td>NaN</td>\n",
       "      <td>94.00</td>\n",
       "      <td>94.00</td>\n",
       "    </tr>\n",
       "    <tr>\n",
       "      <th>7276</th>\n",
       "      <td>11576</td>\n",
       "      <td>11576</td>\n",
       "      <td>NaN</td>\n",
       "      <td>89.00</td>\n",
       "      <td>89.00</td>\n",
       "    </tr>\n",
       "    <tr>\n",
       "      <th>7277</th>\n",
       "      <td>11580</td>\n",
       "      <td>11369</td>\n",
       "      <td>NaN</td>\n",
       "      <td>42.00</td>\n",
       "      <td>42.00</td>\n",
       "    </tr>\n",
       "    <tr>\n",
       "      <th>7280</th>\n",
       "      <td>11590</td>\n",
       "      <td>11430</td>\n",
       "      <td>NaN</td>\n",
       "      <td>52.00</td>\n",
       "      <td>52.00</td>\n",
       "    </tr>\n",
       "    <tr>\n",
       "      <th>7281</th>\n",
       "      <td>11596</td>\n",
       "      <td>10017</td>\n",
       "      <td>NaN</td>\n",
       "      <td>86.50</td>\n",
       "      <td>86.50</td>\n",
       "    </tr>\n",
       "    <tr>\n",
       "      <th>7283</th>\n",
       "      <td>11598</td>\n",
       "      <td>11598</td>\n",
       "      <td>NaN</td>\n",
       "      <td>2.50</td>\n",
       "      <td>2.50</td>\n",
       "    </tr>\n",
       "    <tr>\n",
       "      <th>7285</th>\n",
       "      <td>11692</td>\n",
       "      <td>10003</td>\n",
       "      <td>NaN</td>\n",
       "      <td>56.50</td>\n",
       "      <td>56.50</td>\n",
       "    </tr>\n",
       "    <tr>\n",
       "      <th>7286</th>\n",
       "      <td>11692</td>\n",
       "      <td>10119</td>\n",
       "      <td>NaN</td>\n",
       "      <td>76.50</td>\n",
       "      <td>76.50</td>\n",
       "    </tr>\n",
       "    <tr>\n",
       "      <th>7287</th>\n",
       "      <td>11692</td>\n",
       "      <td>11205</td>\n",
       "      <td>NaN</td>\n",
       "      <td>39.00</td>\n",
       "      <td>39.00</td>\n",
       "    </tr>\n",
       "    <tr>\n",
       "      <th>7288</th>\n",
       "      <td>11692</td>\n",
       "      <td>11371</td>\n",
       "      <td>NaN</td>\n",
       "      <td>63.00</td>\n",
       "      <td>63.00</td>\n",
       "    </tr>\n",
       "    <tr>\n",
       "      <th>7290</th>\n",
       "      <td>11694</td>\n",
       "      <td>11369</td>\n",
       "      <td>NaN</td>\n",
       "      <td>54.50</td>\n",
       "      <td>54.50</td>\n",
       "    </tr>\n",
       "    <tr>\n",
       "      <th>7293</th>\n",
       "      <td>11702</td>\n",
       "      <td>11430</td>\n",
       "      <td>NaN</td>\n",
       "      <td>157.00</td>\n",
       "      <td>157.00</td>\n",
       "    </tr>\n",
       "    <tr>\n",
       "      <th>7294</th>\n",
       "      <td>11702</td>\n",
       "      <td>11701</td>\n",
       "      <td>NaN</td>\n",
       "      <td>8.00</td>\n",
       "      <td>8.00</td>\n",
       "    </tr>\n",
       "    <tr>\n",
       "      <th>7295</th>\n",
       "      <td>11710</td>\n",
       "      <td>10020</td>\n",
       "      <td>NaN</td>\n",
       "      <td>81.50</td>\n",
       "      <td>81.50</td>\n",
       "    </tr>\n",
       "    <tr>\n",
       "      <th>7296</th>\n",
       "      <td>11710</td>\n",
       "      <td>11436</td>\n",
       "      <td>NaN</td>\n",
       "      <td>141.25</td>\n",
       "      <td>141.25</td>\n",
       "    </tr>\n",
       "    <tr>\n",
       "      <th>7297</th>\n",
       "      <td>11714</td>\n",
       "      <td>11714</td>\n",
       "      <td>NaN</td>\n",
       "      <td>3.00</td>\n",
       "      <td>3.00</td>\n",
       "    </tr>\n",
       "    <tr>\n",
       "      <th>7298</th>\n",
       "      <td>11747</td>\n",
       "      <td>11747</td>\n",
       "      <td>NaN</td>\n",
       "      <td>160.00</td>\n",
       "      <td>160.00</td>\n",
       "    </tr>\n",
       "    <tr>\n",
       "      <th>7299</th>\n",
       "      <td>11753</td>\n",
       "      <td>11371</td>\n",
       "      <td>NaN</td>\n",
       "      <td>79.00</td>\n",
       "      <td>79.00</td>\n",
       "    </tr>\n",
       "    <tr>\n",
       "      <th>7300</th>\n",
       "      <td>11756</td>\n",
       "      <td>11756</td>\n",
       "      <td>NaN</td>\n",
       "      <td>4.00</td>\n",
       "      <td>4.00</td>\n",
       "    </tr>\n",
       "    <tr>\n",
       "      <th>7301</th>\n",
       "      <td>11758</td>\n",
       "      <td>11758</td>\n",
       "      <td>NaN</td>\n",
       "      <td>52.00</td>\n",
       "      <td>52.00</td>\n",
       "    </tr>\n",
       "    <tr>\n",
       "      <th>7302</th>\n",
       "      <td>11762</td>\n",
       "      <td>11430</td>\n",
       "      <td>NaN</td>\n",
       "      <td>96.00</td>\n",
       "      <td>96.00</td>\n",
       "    </tr>\n",
       "    <tr>\n",
       "      <th>7303</th>\n",
       "      <td>11804</td>\n",
       "      <td>11430</td>\n",
       "      <td>NaN</td>\n",
       "      <td>68.00</td>\n",
       "      <td>68.00</td>\n",
       "    </tr>\n",
       "    <tr>\n",
       "      <th>7304</th>\n",
       "      <td>12446</td>\n",
       "      <td>12446</td>\n",
       "      <td>NaN</td>\n",
       "      <td>19.50</td>\n",
       "      <td>19.50</td>\n",
       "    </tr>\n",
       "    <tr>\n",
       "      <th>7305</th>\n",
       "      <td>12878</td>\n",
       "      <td>10128</td>\n",
       "      <td>NaN</td>\n",
       "      <td>13.00</td>\n",
       "      <td>13.00</td>\n",
       "    </tr>\n",
       "    <tr>\n",
       "      <th>7306</th>\n",
       "      <td>16226</td>\n",
       "      <td>10010</td>\n",
       "      <td>NaN</td>\n",
       "      <td>8.50</td>\n",
       "      <td>8.50</td>\n",
       "    </tr>\n",
       "    <tr>\n",
       "      <th>7307</th>\n",
       "      <td>17841</td>\n",
       "      <td>10020</td>\n",
       "      <td>NaN</td>\n",
       "      <td>7.50</td>\n",
       "      <td>7.50</td>\n",
       "    </tr>\n",
       "    <tr>\n",
       "      <th>7308</th>\n",
       "      <td>27522</td>\n",
       "      <td>10119</td>\n",
       "      <td>NaN</td>\n",
       "      <td>12.00</td>\n",
       "      <td>12.00</td>\n",
       "    </tr>\n",
       "  </tbody>\n",
       "</table>\n",
       "<p>7309 rows × 5 columns</p>\n",
       "</div>"
      ],
      "text/plain": [
       "     drop_zip pickup_zip  std      sum    mean\n",
       "7109    11430      10013  0.0   676.00   52.00\n",
       "5117    11205      10103  0.0    29.00   14.50\n",
       "6713    11374      10029  0.0    63.00   31.50\n",
       "6470    11369      11105  0.0    37.50   12.50\n",
       "7103    11430      10006  0.0   260.00   52.00\n",
       "7102    11430      10004  0.0   520.00   52.00\n",
       "7101    11430      10003  0.0  1872.00   52.00\n",
       "2482    10036      11430  0.0  2184.00   52.00\n",
       "2483    10036      11436  0.0   156.00   52.00\n",
       "7099    11430      10001  0.0   312.00   52.00\n",
       "2487    10037      10004  0.0    64.00   32.00\n",
       "2488    10037      10007  0.0    59.00   29.50\n",
       "2973    10103      10065  0.0    35.00   17.50\n",
       "658     10007      11430  0.0   936.00   52.00\n",
       "5096    11205      10004  0.0    36.00   18.00\n",
       "6441    11369      10032  0.0    55.00   27.50\n",
       "3900    10278      11430  0.0   780.00   52.00\n",
       "3841    10278      10005  0.0    17.00    8.50\n",
       "2116    10029      11430  0.0   416.00   52.00\n",
       "880     10011      11415  0.0   104.00   52.00\n",
       "7114    11430      10019  0.0  1196.00   52.00\n",
       "4243    10459      10016  0.0    52.00   26.00\n",
       "7113    11430      10018  0.0  1456.00   52.00\n",
       "6526    11370      11377  0.0    16.00    8.00\n",
       "7112    11430      10017  0.0   676.00   52.00\n",
       "7111    11430      10016  0.0  2392.00   52.00\n",
       "3065    10111      11436  0.0   104.00   52.00\n",
       "7110    11430      10014  0.0  1300.00   52.00\n",
       "6827    11377      11102  0.0    22.00   11.00\n",
       "7108    11430      10012  0.0  1612.00   52.00\n",
       "...       ...        ...  ...      ...     ...\n",
       "7270    11566      11430  NaN    83.00   83.00\n",
       "7271    11568      11430  NaN   110.50  110.50\n",
       "7274    11575      11430  NaN    56.50   56.50\n",
       "7275    11576      11369  NaN    94.00   94.00\n",
       "7276    11576      11576  NaN    89.00   89.00\n",
       "7277    11580      11369  NaN    42.00   42.00\n",
       "7280    11590      11430  NaN    52.00   52.00\n",
       "7281    11596      10017  NaN    86.50   86.50\n",
       "7283    11598      11598  NaN     2.50    2.50\n",
       "7285    11692      10003  NaN    56.50   56.50\n",
       "7286    11692      10119  NaN    76.50   76.50\n",
       "7287    11692      11205  NaN    39.00   39.00\n",
       "7288    11692      11371  NaN    63.00   63.00\n",
       "7290    11694      11369  NaN    54.50   54.50\n",
       "7293    11702      11430  NaN   157.00  157.00\n",
       "7294    11702      11701  NaN     8.00    8.00\n",
       "7295    11710      10020  NaN    81.50   81.50\n",
       "7296    11710      11436  NaN   141.25  141.25\n",
       "7297    11714      11714  NaN     3.00    3.00\n",
       "7298    11747      11747  NaN   160.00  160.00\n",
       "7299    11753      11371  NaN    79.00   79.00\n",
       "7300    11756      11756  NaN     4.00    4.00\n",
       "7301    11758      11758  NaN    52.00   52.00\n",
       "7302    11762      11430  NaN    96.00   96.00\n",
       "7303    11804      11430  NaN    68.00   68.00\n",
       "7304    12446      12446  NaN    19.50   19.50\n",
       "7305    12878      10128  NaN    13.00   13.00\n",
       "7306    16226      10010  NaN     8.50    8.50\n",
       "7307    17841      10020  NaN     7.50    7.50\n",
       "7308    27522      10119  NaN    12.00   12.00\n",
       "\n",
       "[7309 rows x 5 columns]"
      ]
     },
     "execution_count": 71,
     "metadata": {},
     "output_type": "execute_result"
    }
   ],
   "source": [
    "l"
   ]
  },
  {
   "cell_type": "code",
   "execution_count": 73,
   "metadata": {
    "collapsed": true
   },
   "outputs": [],
   "source": [
    "trip_data_sample.to_csv(\"trip_sample.csv\")"
   ]
  },
  {
   "cell_type": "code",
   "execution_count": null,
   "metadata": {
    "collapsed": true
   },
   "outputs": [],
   "source": []
  }
 ],
 "metadata": {
  "kernelspec": {
   "display_name": "Python 2",
   "language": "python",
   "name": "python2"
  },
  "language_info": {
   "codemirror_mode": {
    "name": "ipython",
    "version": 2
   },
   "file_extension": ".py",
   "mimetype": "text/x-python",
   "name": "python",
   "nbconvert_exporter": "python",
   "pygments_lexer": "ipython2",
   "version": "2.7.13"
  }
 },
 "nbformat": 4,
 "nbformat_minor": 0
}
