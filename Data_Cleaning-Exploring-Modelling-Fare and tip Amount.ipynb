{
 "cells": [
  {
   "cell_type": "code",
   "execution_count": 61,
   "metadata": {
    "collapsed": true
   },
   "outputs": [],
   "source": [
    "# Importing the required libraries\n",
    "import csv\n",
    "import pandas as pd\n",
    "import numpy as np\n",
    "from scipy import stats, integrate\n",
    "import matplotlib.pyplot as plt\n",
    "%matplotlib inline\n",
    "import warnings\n",
    "warnings.filterwarnings('ignore')"
   ]
  },
  {
   "cell_type": "code",
   "execution_count": 62,
   "metadata": {
    "collapsed": true
   },
   "outputs": [],
   "source": [
    "trip_data = pd.read_csv(\"trip_sample.csv\")"
   ]
  },
  {
   "cell_type": "code",
   "execution_count": 63,
   "metadata": {
    "collapsed": false
   },
   "outputs": [],
   "source": [
    "trip_data.drop(trip_data.columns[[0]], axis=1, inplace=True)"
   ]
  },
  {
   "cell_type": "code",
   "execution_count": 64,
   "metadata": {
    "collapsed": false
   },
   "outputs": [
    {
     "data": {
      "text/plain": [
       "['medallion',\n",
       " 'hack_license',\n",
       " 'vendor_id',\n",
       " 'rate_code',\n",
       " 'store_and_fwd_flag',\n",
       " 'pickup_datetime',\n",
       " 'dropoff_datetime',\n",
       " 'passenger_count',\n",
       " 'trip_time_in_secs',\n",
       " 'trip_distance',\n",
       " 'pickup_longitude',\n",
       " 'pickup_latitude',\n",
       " 'dropoff_longitude',\n",
       " 'dropoff_latitude',\n",
       " 'payment_type',\n",
       " 'fare_amount',\n",
       " 'surcharge',\n",
       " 'mta_tax',\n",
       " 'tip_amount',\n",
       " 'tolls_amount',\n",
       " 'total_amount',\n",
       " 'hour',\n",
       " 'day',\n",
       " 'drop_zip',\n",
       " 'pickup_zip',\n",
       " 'mins']"
      ]
     },
     "execution_count": 64,
     "metadata": {},
     "output_type": "execute_result"
    }
   ],
   "source": [
    "trip_data.columns.tolist()"
   ]
  },
  {
   "cell_type": "code",
   "execution_count": 65,
   "metadata": {
    "collapsed": false
   },
   "outputs": [
    {
     "data": {
      "text/plain": [
       "(148245, 26)"
      ]
     },
     "execution_count": 65,
     "metadata": {},
     "output_type": "execute_result"
    }
   ],
   "source": [
    "trip_data.shape"
   ]
  },
  {
   "cell_type": "code",
   "execution_count": 66,
   "metadata": {
    "collapsed": false
   },
   "outputs": [
    {
     "data": {
      "text/plain": [
       "(148245, 26)"
      ]
     },
     "execution_count": 66,
     "metadata": {},
     "output_type": "execute_result"
    }
   ],
   "source": [
    "#' pickup_longitude', ' pickup_latitude', ' dropoff_longitude', ' dropoff_latitude'\n",
    "trip_data = trip_data[(trip_data['pickup_longitude'] !=0) & (trip_data['pickup_latitude'] !=0) & \\\n",
    "                      (trip_data['dropoff_longitude'] !=0) & (trip_data['dropoff_latitude'] !=0)]\n",
    "trip_data.shape"
   ]
  },
  {
   "cell_type": "code",
   "execution_count": 67,
   "metadata": {
    "collapsed": false
   },
   "outputs": [
    {
     "data": {
      "text/plain": [
       "(148245, 26)"
      ]
     },
     "execution_count": 67,
     "metadata": {},
     "output_type": "execute_result"
    }
   ],
   "source": [
    "trip_data.shape"
   ]
  },
  {
   "cell_type": "code",
   "execution_count": 68,
   "metadata": {
    "collapsed": false
   },
   "outputs": [],
   "source": [
    "# trip_data = trip_data[(trip_data['pickup_longitude'] >= -74.05) & (trip_data['pickup_latitude'] >= 40.60) & \\\n",
    "#                       (trip_data['dropoff_longitude'] >= -74.05) & (trip_data['dropoff_latitude'] >= 40.60)]\n",
    "\n",
    "# trip_data = trip_data[(trip_data['pickup_longitude'] <= -73.85) & (trip_data['pickup_latitude'] <= 40.90) & \\\n",
    "#                       (trip_data['dropoff_longitude'] <= -73.85) & (trip_data['dropoff_latitude'] <= 40.90)]\n",
    "# trip_data.shape"
   ]
  },
  {
   "cell_type": "code",
   "execution_count": 69,
   "metadata": {
    "collapsed": false
   },
   "outputs": [
    {
     "data": {
      "text/plain": [
       "(148245, 26)"
      ]
     },
     "execution_count": 69,
     "metadata": {},
     "output_type": "execute_result"
    }
   ],
   "source": [
    "trip_data = trip_data[(trip_data['passenger_count'] > 0) & (trip_data['passenger_count'] < 8)]\n",
    "trip_data.shape"
   ]
  },
  {
   "cell_type": "code",
   "execution_count": 70,
   "metadata": {
    "collapsed": false
   },
   "outputs": [
    {
     "data": {
      "text/plain": [
       "(146695, 26)"
      ]
     },
     "execution_count": 70,
     "metadata": {},
     "output_type": "execute_result"
    }
   ],
   "source": [
    "trip_data = trip_data[(trip_data['pickup_longitude'] != trip_data['dropoff_longitude'])\\\n",
    "                      & (trip_data['dropoff_latitude'] != trip_data['pickup_latitude'])]\n",
    "\n",
    "trip_data = trip_data[(trip_data['pickup_datetime'] != trip_data['dropoff_datetime'] )]\n",
    "\n",
    "trip_data.shape"
   ]
  },
  {
   "cell_type": "code",
   "execution_count": 71,
   "metadata": {
    "collapsed": false
   },
   "outputs": [
    {
     "data": {
      "text/plain": [
       "(136346, 26)"
      ]
     },
     "execution_count": 71,
     "metadata": {},
     "output_type": "execute_result"
    }
   ],
   "source": [
    "trip_data = trip_data[trip_data['fare_amount'] >= (2.5 + trip_data['mins']*0.20 \\\n",
    "                                                   + trip_data['trip_distance']*2)]\n",
    "\n",
    "trip_data.shape"
   ]
  },
  {
   "cell_type": "code",
   "execution_count": 72,
   "metadata": {
    "collapsed": false
   },
   "outputs": [],
   "source": [
    "def get_miles_hour(row):\n",
    "    try:\n",
    "        return (row['trip_distance']*60*60)/(row['trip_time_in_secs']) # miles per hour.\n",
    "    except:\n",
    "        return 0\n"
   ]
  },
  {
   "cell_type": "code",
   "execution_count": 73,
   "metadata": {
    "collapsed": true
   },
   "outputs": [],
   "source": [
    "trip_data['mile_per_hour'] = trip_data.apply(get_miles_hour, axis=1, raw=True)"
   ]
  },
  {
   "cell_type": "code",
   "execution_count": 74,
   "metadata": {
    "collapsed": false
   },
   "outputs": [
    {
     "data": {
      "text/plain": [
       "0.000000     612\n",
       "9.000000     543\n",
       "12.000000    495\n",
       "8.400000     383\n",
       "15.000000    366\n",
       "12.600000    365\n",
       "13.200000    335\n",
       "9.600000     273\n",
       "10.800000    267\n",
       "6.600000     267\n",
       "10.000000    254\n",
       "10.200000    249\n",
       "11.400000    239\n",
       "7.500000     234\n",
       "13.800000    231\n",
       "8.700000     228\n",
       "10.500000    227\n",
       "14.400000    222\n",
       "11.250000    220\n",
       "8.000000     212\n",
       "7.200000     212\n",
       "6.000000     212\n",
       "9.900000     207\n",
       "18.000000    195\n",
       "7.800000     191\n",
       "10.285714    188\n",
       "13.500000    177\n",
       "9.300000     175\n",
       "12.857143    173\n",
       "8.571429     165\n",
       "            ... \n",
       "19.671257      1\n",
       "11.160000      1\n",
       "18.753830      1\n",
       "28.213166      1\n",
       "14.413727      1\n",
       "5.229358       1\n",
       "6.671079       1\n",
       "36.172249      1\n",
       "15.291429      1\n",
       "17.208000      1\n",
       "27.768000      1\n",
       "15.036364      1\n",
       "18.212479      1\n",
       "42.469136      1\n",
       "28.618593      1\n",
       "27.781350      1\n",
       "9.016698       1\n",
       "22.605000      1\n",
       "20.900705      1\n",
       "10.917574      1\n",
       "20.635294      1\n",
       "0.672000       1\n",
       "10.324190      1\n",
       "27.276923      1\n",
       "12.493333      1\n",
       "18.023715      1\n",
       "21.707126      1\n",
       "8.927336       1\n",
       "17.565517      1\n",
       "19.351988      1\n",
       "Name: mile_per_hour, dtype: int64"
      ]
     },
     "execution_count": 74,
     "metadata": {},
     "output_type": "execute_result"
    }
   ],
   "source": [
    "trip_data['mile_per_hour'].value_counts()"
   ]
  },
  {
   "cell_type": "code",
   "execution_count": 37,
   "metadata": {
    "collapsed": false,
    "scrolled": true
   },
   "outputs": [
    {
     "data": {
      "text/html": [
       "<div>\n",
       "<table border=\"1\" class=\"dataframe\">\n",
       "  <thead>\n",
       "    <tr style=\"text-align: right;\">\n",
       "      <th></th>\n",
       "      <th>mile_per_hour</th>\n",
       "      <th>std</th>\n",
       "      <th>sum</th>\n",
       "      <th>mean</th>\n",
       "    </tr>\n",
       "  </thead>\n",
       "  <tbody>\n",
       "    <tr>\n",
       "      <th>34655</th>\n",
       "      <td>46.956522</td>\n",
       "      <td>94.752309</td>\n",
       "      <td>146.00</td>\n",
       "      <td>73.000000</td>\n",
       "    </tr>\n",
       "    <tr>\n",
       "      <th>34136</th>\n",
       "      <td>39.876923</td>\n",
       "      <td>71.417785</td>\n",
       "      <td>162.00</td>\n",
       "      <td>81.000000</td>\n",
       "    </tr>\n",
       "    <tr>\n",
       "      <th>34725</th>\n",
       "      <td>49.500000</td>\n",
       "      <td>63.109280</td>\n",
       "      <td>193.25</td>\n",
       "      <td>96.625000</td>\n",
       "    </tr>\n",
       "    <tr>\n",
       "      <th>32387</th>\n",
       "      <td>32.225064</td>\n",
       "      <td>39.951533</td>\n",
       "      <td>78.50</td>\n",
       "      <td>39.250000</td>\n",
       "    </tr>\n",
       "    <tr>\n",
       "      <th>31060</th>\n",
       "      <td>28.900000</td>\n",
       "      <td>39.597980</td>\n",
       "      <td>92.00</td>\n",
       "      <td>46.000000</td>\n",
       "    </tr>\n",
       "    <tr>\n",
       "      <th>4310</th>\n",
       "      <td>5.882353</td>\n",
       "      <td>39.154076</td>\n",
       "      <td>144.50</td>\n",
       "      <td>24.083333</td>\n",
       "    </tr>\n",
       "    <tr>\n",
       "      <th>33637</th>\n",
       "      <td>37.090909</td>\n",
       "      <td>37.476659</td>\n",
       "      <td>93.00</td>\n",
       "      <td>46.500000</td>\n",
       "    </tr>\n",
       "    <tr>\n",
       "      <th>29148</th>\n",
       "      <td>25.297297</td>\n",
       "      <td>35.708892</td>\n",
       "      <td>68.50</td>\n",
       "      <td>34.250000</td>\n",
       "    </tr>\n",
       "    <tr>\n",
       "      <th>1308</th>\n",
       "      <td>3.422053</td>\n",
       "      <td>34.294679</td>\n",
       "      <td>70.50</td>\n",
       "      <td>35.250000</td>\n",
       "    </tr>\n",
       "    <tr>\n",
       "      <th>31145</th>\n",
       "      <td>29.068323</td>\n",
       "      <td>32.880465</td>\n",
       "      <td>57.50</td>\n",
       "      <td>28.750000</td>\n",
       "    </tr>\n",
       "    <tr>\n",
       "      <th>32085</th>\n",
       "      <td>31.397121</td>\n",
       "      <td>32.173359</td>\n",
       "      <td>104.50</td>\n",
       "      <td>52.250000</td>\n",
       "    </tr>\n",
       "    <tr>\n",
       "      <th>27293</th>\n",
       "      <td>22.724252</td>\n",
       "      <td>32.173359</td>\n",
       "      <td>60.50</td>\n",
       "      <td>30.250000</td>\n",
       "    </tr>\n",
       "    <tr>\n",
       "      <th>22310</th>\n",
       "      <td>17.719088</td>\n",
       "      <td>31.819805</td>\n",
       "      <td>75.00</td>\n",
       "      <td>37.500000</td>\n",
       "    </tr>\n",
       "    <tr>\n",
       "      <th>28895</th>\n",
       "      <td>24.923077</td>\n",
       "      <td>31.819805</td>\n",
       "      <td>59.00</td>\n",
       "      <td>29.500000</td>\n",
       "    </tr>\n",
       "    <tr>\n",
       "      <th>32015</th>\n",
       "      <td>31.200000</td>\n",
       "      <td>31.466252</td>\n",
       "      <td>59.50</td>\n",
       "      <td>29.750000</td>\n",
       "    </tr>\n",
       "    <tr>\n",
       "      <th>29598</th>\n",
       "      <td>26.068966</td>\n",
       "      <td>31.466252</td>\n",
       "      <td>59.50</td>\n",
       "      <td>29.750000</td>\n",
       "    </tr>\n",
       "    <tr>\n",
       "      <th>27769</th>\n",
       "      <td>23.323944</td>\n",
       "      <td>31.466252</td>\n",
       "      <td>61.50</td>\n",
       "      <td>30.750000</td>\n",
       "    </tr>\n",
       "    <tr>\n",
       "      <th>25934</th>\n",
       "      <td>21.130435</td>\n",
       "      <td>30.052038</td>\n",
       "      <td>61.50</td>\n",
       "      <td>30.750000</td>\n",
       "    </tr>\n",
       "    <tr>\n",
       "      <th>31461</th>\n",
       "      <td>29.822485</td>\n",
       "      <td>30.052038</td>\n",
       "      <td>61.50</td>\n",
       "      <td>30.750000</td>\n",
       "    </tr>\n",
       "    <tr>\n",
       "      <th>32522</th>\n",
       "      <td>32.647059</td>\n",
       "      <td>30.052038</td>\n",
       "      <td>94.50</td>\n",
       "      <td>47.250000</td>\n",
       "    </tr>\n",
       "    <tr>\n",
       "      <th>32112</th>\n",
       "      <td>31.475410</td>\n",
       "      <td>29.698485</td>\n",
       "      <td>55.00</td>\n",
       "      <td>27.500000</td>\n",
       "    </tr>\n",
       "    <tr>\n",
       "      <th>23419</th>\n",
       "      <td>18.656430</td>\n",
       "      <td>29.698485</td>\n",
       "      <td>62.00</td>\n",
       "      <td>31.000000</td>\n",
       "    </tr>\n",
       "    <tr>\n",
       "      <th>33090</th>\n",
       "      <td>34.666667</td>\n",
       "      <td>29.698485</td>\n",
       "      <td>158.00</td>\n",
       "      <td>79.000000</td>\n",
       "    </tr>\n",
       "    <tr>\n",
       "      <th>24748</th>\n",
       "      <td>19.918033</td>\n",
       "      <td>29.698485</td>\n",
       "      <td>62.00</td>\n",
       "      <td>31.000000</td>\n",
       "    </tr>\n",
       "    <tr>\n",
       "      <th>30369</th>\n",
       "      <td>27.500000</td>\n",
       "      <td>29.698485</td>\n",
       "      <td>62.00</td>\n",
       "      <td>31.000000</td>\n",
       "    </tr>\n",
       "    <tr>\n",
       "      <th>1056</th>\n",
       "      <td>3.085714</td>\n",
       "      <td>29.344931</td>\n",
       "      <td>62.50</td>\n",
       "      <td>31.250000</td>\n",
       "    </tr>\n",
       "    <tr>\n",
       "      <th>33733</th>\n",
       "      <td>37.600000</td>\n",
       "      <td>29.344931</td>\n",
       "      <td>75.50</td>\n",
       "      <td>37.750000</td>\n",
       "    </tr>\n",
       "    <tr>\n",
       "      <th>28007</th>\n",
       "      <td>23.650000</td>\n",
       "      <td>28.991378</td>\n",
       "      <td>72.00</td>\n",
       "      <td>36.000000</td>\n",
       "    </tr>\n",
       "    <tr>\n",
       "      <th>27863</th>\n",
       "      <td>23.448276</td>\n",
       "      <td>28.991378</td>\n",
       "      <td>63.00</td>\n",
       "      <td>31.500000</td>\n",
       "    </tr>\n",
       "    <tr>\n",
       "      <th>25288</th>\n",
       "      <td>20.466667</td>\n",
       "      <td>28.960770</td>\n",
       "      <td>184.50</td>\n",
       "      <td>26.357143</td>\n",
       "    </tr>\n",
       "    <tr>\n",
       "      <th>...</th>\n",
       "      <td>...</td>\n",
       "      <td>...</td>\n",
       "      <td>...</td>\n",
       "      <td>...</td>\n",
       "    </tr>\n",
       "    <tr>\n",
       "      <th>34768</th>\n",
       "      <td>53.610000</td>\n",
       "      <td>NaN</td>\n",
       "      <td>52.00</td>\n",
       "      <td>52.000000</td>\n",
       "    </tr>\n",
       "    <tr>\n",
       "      <th>34769</th>\n",
       "      <td>53.733333</td>\n",
       "      <td>NaN</td>\n",
       "      <td>160.00</td>\n",
       "      <td>160.000000</td>\n",
       "    </tr>\n",
       "    <tr>\n",
       "      <th>34770</th>\n",
       "      <td>53.968421</td>\n",
       "      <td>NaN</td>\n",
       "      <td>52.00</td>\n",
       "      <td>52.000000</td>\n",
       "    </tr>\n",
       "    <tr>\n",
       "      <th>34771</th>\n",
       "      <td>54.808652</td>\n",
       "      <td>NaN</td>\n",
       "      <td>52.00</td>\n",
       "      <td>52.000000</td>\n",
       "    </tr>\n",
       "    <tr>\n",
       "      <th>34772</th>\n",
       "      <td>55.223301</td>\n",
       "      <td>NaN</td>\n",
       "      <td>112.00</td>\n",
       "      <td>112.000000</td>\n",
       "    </tr>\n",
       "    <tr>\n",
       "      <th>34773</th>\n",
       "      <td>56.800000</td>\n",
       "      <td>NaN</td>\n",
       "      <td>52.00</td>\n",
       "      <td>52.000000</td>\n",
       "    </tr>\n",
       "    <tr>\n",
       "      <th>34774</th>\n",
       "      <td>56.817594</td>\n",
       "      <td>NaN</td>\n",
       "      <td>75.00</td>\n",
       "      <td>75.000000</td>\n",
       "    </tr>\n",
       "    <tr>\n",
       "      <th>34775</th>\n",
       "      <td>57.919556</td>\n",
       "      <td>NaN</td>\n",
       "      <td>31.50</td>\n",
       "      <td>31.500000</td>\n",
       "    </tr>\n",
       "    <tr>\n",
       "      <th>34776</th>\n",
       "      <td>58.663636</td>\n",
       "      <td>NaN</td>\n",
       "      <td>56.50</td>\n",
       "      <td>56.500000</td>\n",
       "    </tr>\n",
       "    <tr>\n",
       "      <th>34777</th>\n",
       "      <td>60.000000</td>\n",
       "      <td>NaN</td>\n",
       "      <td>5.00</td>\n",
       "      <td>5.000000</td>\n",
       "    </tr>\n",
       "    <tr>\n",
       "      <th>34778</th>\n",
       "      <td>60.299103</td>\n",
       "      <td>NaN</td>\n",
       "      <td>52.00</td>\n",
       "      <td>52.000000</td>\n",
       "    </tr>\n",
       "    <tr>\n",
       "      <th>34779</th>\n",
       "      <td>61.751825</td>\n",
       "      <td>NaN</td>\n",
       "      <td>18.00</td>\n",
       "      <td>18.000000</td>\n",
       "    </tr>\n",
       "    <tr>\n",
       "      <th>34780</th>\n",
       "      <td>66.000000</td>\n",
       "      <td>NaN</td>\n",
       "      <td>52.00</td>\n",
       "      <td>52.000000</td>\n",
       "    </tr>\n",
       "    <tr>\n",
       "      <th>34781</th>\n",
       "      <td>70.000000</td>\n",
       "      <td>NaN</td>\n",
       "      <td>60.00</td>\n",
       "      <td>60.000000</td>\n",
       "    </tr>\n",
       "    <tr>\n",
       "      <th>34782</th>\n",
       "      <td>72.000000</td>\n",
       "      <td>NaN</td>\n",
       "      <td>18.50</td>\n",
       "      <td>18.500000</td>\n",
       "    </tr>\n",
       "    <tr>\n",
       "      <th>34783</th>\n",
       "      <td>77.837838</td>\n",
       "      <td>NaN</td>\n",
       "      <td>74.00</td>\n",
       "      <td>74.000000</td>\n",
       "    </tr>\n",
       "    <tr>\n",
       "      <th>34784</th>\n",
       "      <td>86.301370</td>\n",
       "      <td>NaN</td>\n",
       "      <td>114.00</td>\n",
       "      <td>114.000000</td>\n",
       "    </tr>\n",
       "    <tr>\n",
       "      <th>34785</th>\n",
       "      <td>86.844320</td>\n",
       "      <td>NaN</td>\n",
       "      <td>52.00</td>\n",
       "      <td>52.000000</td>\n",
       "    </tr>\n",
       "    <tr>\n",
       "      <th>34786</th>\n",
       "      <td>102.600000</td>\n",
       "      <td>NaN</td>\n",
       "      <td>6.50</td>\n",
       "      <td>6.500000</td>\n",
       "    </tr>\n",
       "    <tr>\n",
       "      <th>34787</th>\n",
       "      <td>126.357616</td>\n",
       "      <td>NaN</td>\n",
       "      <td>52.00</td>\n",
       "      <td>52.000000</td>\n",
       "    </tr>\n",
       "    <tr>\n",
       "      <th>34788</th>\n",
       "      <td>142.882483</td>\n",
       "      <td>NaN</td>\n",
       "      <td>52.00</td>\n",
       "      <td>52.000000</td>\n",
       "    </tr>\n",
       "    <tr>\n",
       "      <th>34789</th>\n",
       "      <td>497.142857</td>\n",
       "      <td>NaN</td>\n",
       "      <td>14.50</td>\n",
       "      <td>14.500000</td>\n",
       "    </tr>\n",
       "    <tr>\n",
       "      <th>34790</th>\n",
       "      <td>752.727273</td>\n",
       "      <td>NaN</td>\n",
       "      <td>9.50</td>\n",
       "      <td>9.500000</td>\n",
       "    </tr>\n",
       "    <tr>\n",
       "      <th>34791</th>\n",
       "      <td>775.384615</td>\n",
       "      <td>NaN</td>\n",
       "      <td>34.00</td>\n",
       "      <td>34.000000</td>\n",
       "    </tr>\n",
       "    <tr>\n",
       "      <th>34792</th>\n",
       "      <td>859.354839</td>\n",
       "      <td>NaN</td>\n",
       "      <td>160.00</td>\n",
       "      <td>160.000000</td>\n",
       "    </tr>\n",
       "    <tr>\n",
       "      <th>34794</th>\n",
       "      <td>2244.705882</td>\n",
       "      <td>NaN</td>\n",
       "      <td>52.00</td>\n",
       "      <td>52.000000</td>\n",
       "    </tr>\n",
       "    <tr>\n",
       "      <th>34795</th>\n",
       "      <td>2680.000000</td>\n",
       "      <td>NaN</td>\n",
       "      <td>20.00</td>\n",
       "      <td>20.000000</td>\n",
       "    </tr>\n",
       "    <tr>\n",
       "      <th>34796</th>\n",
       "      <td>3120.000000</td>\n",
       "      <td>NaN</td>\n",
       "      <td>71.00</td>\n",
       "      <td>71.000000</td>\n",
       "    </tr>\n",
       "    <tr>\n",
       "      <th>34797</th>\n",
       "      <td>5269.090909</td>\n",
       "      <td>NaN</td>\n",
       "      <td>52.00</td>\n",
       "      <td>52.000000</td>\n",
       "    </tr>\n",
       "    <tr>\n",
       "      <th>34798</th>\n",
       "      <td>7320.000000</td>\n",
       "      <td>NaN</td>\n",
       "      <td>52.00</td>\n",
       "      <td>52.000000</td>\n",
       "    </tr>\n",
       "  </tbody>\n",
       "</table>\n",
       "<p>34799 rows × 4 columns</p>\n",
       "</div>"
      ],
      "text/plain": [
       "       mile_per_hour        std     sum        mean\n",
       "34655      46.956522  94.752309  146.00   73.000000\n",
       "34136      39.876923  71.417785  162.00   81.000000\n",
       "34725      49.500000  63.109280  193.25   96.625000\n",
       "32387      32.225064  39.951533   78.50   39.250000\n",
       "31060      28.900000  39.597980   92.00   46.000000\n",
       "4310        5.882353  39.154076  144.50   24.083333\n",
       "33637      37.090909  37.476659   93.00   46.500000\n",
       "29148      25.297297  35.708892   68.50   34.250000\n",
       "1308        3.422053  34.294679   70.50   35.250000\n",
       "31145      29.068323  32.880465   57.50   28.750000\n",
       "32085      31.397121  32.173359  104.50   52.250000\n",
       "27293      22.724252  32.173359   60.50   30.250000\n",
       "22310      17.719088  31.819805   75.00   37.500000\n",
       "28895      24.923077  31.819805   59.00   29.500000\n",
       "32015      31.200000  31.466252   59.50   29.750000\n",
       "29598      26.068966  31.466252   59.50   29.750000\n",
       "27769      23.323944  31.466252   61.50   30.750000\n",
       "25934      21.130435  30.052038   61.50   30.750000\n",
       "31461      29.822485  30.052038   61.50   30.750000\n",
       "32522      32.647059  30.052038   94.50   47.250000\n",
       "32112      31.475410  29.698485   55.00   27.500000\n",
       "23419      18.656430  29.698485   62.00   31.000000\n",
       "33090      34.666667  29.698485  158.00   79.000000\n",
       "24748      19.918033  29.698485   62.00   31.000000\n",
       "30369      27.500000  29.698485   62.00   31.000000\n",
       "1056        3.085714  29.344931   62.50   31.250000\n",
       "33733      37.600000  29.344931   75.50   37.750000\n",
       "28007      23.650000  28.991378   72.00   36.000000\n",
       "27863      23.448276  28.991378   63.00   31.500000\n",
       "25288      20.466667  28.960770  184.50   26.357143\n",
       "...              ...        ...     ...         ...\n",
       "34768      53.610000        NaN   52.00   52.000000\n",
       "34769      53.733333        NaN  160.00  160.000000\n",
       "34770      53.968421        NaN   52.00   52.000000\n",
       "34771      54.808652        NaN   52.00   52.000000\n",
       "34772      55.223301        NaN  112.00  112.000000\n",
       "34773      56.800000        NaN   52.00   52.000000\n",
       "34774      56.817594        NaN   75.00   75.000000\n",
       "34775      57.919556        NaN   31.50   31.500000\n",
       "34776      58.663636        NaN   56.50   56.500000\n",
       "34777      60.000000        NaN    5.00    5.000000\n",
       "34778      60.299103        NaN   52.00   52.000000\n",
       "34779      61.751825        NaN   18.00   18.000000\n",
       "34780      66.000000        NaN   52.00   52.000000\n",
       "34781      70.000000        NaN   60.00   60.000000\n",
       "34782      72.000000        NaN   18.50   18.500000\n",
       "34783      77.837838        NaN   74.00   74.000000\n",
       "34784      86.301370        NaN  114.00  114.000000\n",
       "34785      86.844320        NaN   52.00   52.000000\n",
       "34786     102.600000        NaN    6.50    6.500000\n",
       "34787     126.357616        NaN   52.00   52.000000\n",
       "34788     142.882483        NaN   52.00   52.000000\n",
       "34789     497.142857        NaN   14.50   14.500000\n",
       "34790     752.727273        NaN    9.50    9.500000\n",
       "34791     775.384615        NaN   34.00   34.000000\n",
       "34792     859.354839        NaN  160.00  160.000000\n",
       "34794    2244.705882        NaN   52.00   52.000000\n",
       "34795    2680.000000        NaN   20.00   20.000000\n",
       "34796    3120.000000        NaN   71.00   71.000000\n",
       "34797    5269.090909        NaN   52.00   52.000000\n",
       "34798    7320.000000        NaN   52.00   52.000000\n",
       "\n",
       "[34799 rows x 4 columns]"
      ]
     },
     "execution_count": 37,
     "metadata": {},
     "output_type": "execute_result"
    }
   ],
   "source": [
    "trip_data.groupby(['mile_per_hour'], as_index=False).fare_amount.agg({'sum' : np.sum,'std': np.std,\\\n",
    "                                                                               'mean': np.mean }).\\\n",
    "                                                                                    sort('std',ascending = False)"
   ]
  },
  {
   "cell_type": "code",
   "execution_count": 75,
   "metadata": {
    "collapsed": false
   },
   "outputs": [],
   "source": [
    "trip_data['average_speed_this_hour'] = trip_data['mile_per_hour'].groupby(trip_data[\"hour\"]).transform(np.mean)\n",
    "trip_data['average_speed_this_hour'] = trip_data['average_speed_this_hour'].apply(lambda x: int(x))\n",
    "trip_data['COUNTER'] = 1\n",
    "trip_data['count_of_rides'] = trip_data['COUNTER'].groupby(trip_data[\"hour\"]).transform(np.sum)\n",
    "trip_data['distance_square'] = trip_data['trip_distance'].apply(lambda x: x*x)"
   ]
  },
  {
   "cell_type": "code",
   "execution_count": 76,
   "metadata": {
    "collapsed": false
   },
   "outputs": [
    {
     "data": {
      "text/plain": [
       "(136346, 31)"
      ]
     },
     "execution_count": 76,
     "metadata": {},
     "output_type": "execute_result"
    }
   ],
   "source": [
    "trip_data.shape"
   ]
  },
  {
   "cell_type": "code",
   "execution_count": 42,
   "metadata": {
    "collapsed": false
   },
   "outputs": [
    {
     "data": {
      "text/plain": [
       "['medallion',\n",
       " 'hack_license',\n",
       " 'vendor_id',\n",
       " 'rate_code',\n",
       " 'store_and_fwd_flag',\n",
       " 'pickup_datetime',\n",
       " 'dropoff_datetime',\n",
       " 'passenger_count',\n",
       " 'trip_time_in_secs',\n",
       " 'trip_distance',\n",
       " 'pickup_longitude',\n",
       " 'pickup_latitude',\n",
       " 'dropoff_longitude',\n",
       " 'dropoff_latitude',\n",
       " 'payment_type',\n",
       " 'fare_amount',\n",
       " 'surcharge',\n",
       " 'mta_tax',\n",
       " 'tip_amount',\n",
       " 'tolls_amount',\n",
       " 'total_amount',\n",
       " 'hour',\n",
       " 'day',\n",
       " 'drop_zip',\n",
       " 'pickup_zip',\n",
       " 'mins',\n",
       " 'mile_per_hour',\n",
       " 'average_speed_this_hour',\n",
       " 'COUNTER',\n",
       " 'count_of_rides']"
      ]
     },
     "execution_count": 42,
     "metadata": {},
     "output_type": "execute_result"
    }
   ],
   "source": [
    "trip_data.columns.tolist()"
   ]
  },
  {
   "cell_type": "code",
   "execution_count": 77,
   "metadata": {
    "collapsed": false
   },
   "outputs": [
    {
     "data": {
      "text/plain": [
       "05    5186\n",
       "12    5046\n",
       "20    5027\n",
       "06    4891\n",
       "13    4889\n",
       "04    4864\n",
       "19    4860\n",
       "26    4853\n",
       "11    4820\n",
       "27    4802\n",
       "18    4778\n",
       "03    4691\n",
       "10    4675\n",
       "25    4667\n",
       "17    4665\n",
       "16    4579\n",
       "02    4577\n",
       "23    4486\n",
       "09    4475\n",
       "24    4457\n",
       "14    4362\n",
       "30    4348\n",
       "15    4165\n",
       "29    4159\n",
       "07    4156\n",
       "28    4120\n",
       "21    4092\n",
       "22    3956\n",
       "08    3947\n",
       "01    3753\n",
       "Name: date, dtype: int64"
      ]
     },
     "execution_count": 77,
     "metadata": {},
     "output_type": "execute_result"
    }
   ],
   "source": [
    "trip_data['date'] = trip_data['pickup_datetime'].apply(lambda x: x.split(\" \")[0].split(\"-\")[2])\n",
    "trip_data[\"date\"].value_counts()"
   ]
  },
  {
   "cell_type": "code",
   "execution_count": 117,
   "metadata": {
    "collapsed": false
   },
   "outputs": [],
   "source": [
    "trip_data.payment_type = pd.Categorical(trip_data.payment_type)"
   ]
  },
  {
   "cell_type": "code",
   "execution_count": 118,
   "metadata": {
    "collapsed": true
   },
   "outputs": [],
   "source": [
    "trip_data['payment_code'] = trip_data.payment_type.cat.codes"
   ]
  },
  {
   "cell_type": "code",
   "execution_count": 130,
   "metadata": {
    "collapsed": true
   },
   "outputs": [],
   "source": [
    "columns = ['hour',\n",
    " 'day',\n",
    " 'date',\n",
    " 'drop_zip',\n",
    " 'pickup_zip',\n",
    " 'distance_square',\n",
    " 'trip_distance',\n",
    " 'pickup_longitude',\n",
    " 'pickup_latitude',\n",
    " 'dropoff_longitude',\n",
    " 'dropoff_latitude',\n",
    " 'average_speed_this_hour',\n",
    "           'count_of_rides',\n",
    "           'passenger_count',\n",
    "           'payment_code'\n",
    "          ]\n",
    "\n",
    "target = [\"tip_amount\"]"
   ]
  },
  {
   "cell_type": "code",
   "execution_count": 131,
   "metadata": {
    "collapsed": false
   },
   "outputs": [],
   "source": [
    "# Import a convenience function to split the sets.\n",
    "from sklearn.cross_validation import train_test_split\n",
    "\n",
    "\n",
    "\n",
    "train = trip_data.sample(frac=0.8, random_state=1)\n",
    "test = trip_data.loc[~trip_data.index.isin(train.index)]\n"
   ]
  },
  {
   "cell_type": "code",
   "execution_count": 132,
   "metadata": {
    "collapsed": false
   },
   "outputs": [
    {
     "name": "stdout",
     "output_type": "stream",
     "text": [
      "1.80175171993\n",
      "0.265733157776\n"
     ]
    }
   ],
   "source": [
    "# Import the linearregression model.\n",
    "from sklearn.linear_model import LinearRegression\n",
    "from sklearn.metrics import mean_squared_error\n",
    "from sklearn.metrics import r2_score\n",
    "# Initialize the model class.\n",
    "\n",
    "model = LinearRegression()\n",
    "# Fit the model to the training data.\n",
    "model.fit(train[columns], train[target])\n",
    "\n",
    "# Generate our predictions for the test set.\n",
    "predictions = model.predict(test[columns])\n",
    "\n",
    "# Compute error between our test predictions and the actual values.\n",
    "print mean_squared_error(predictions, test[target])\n",
    "print r2_score(predictions, test[target])"
   ]
  },
  {
   "cell_type": "code",
   "execution_count": 133,
   "metadata": {
    "collapsed": false
   },
   "outputs": [
    {
     "name": "stdout",
     "output_type": "stream",
     "text": [
      "500 1 sqrt\n",
      "1.026723373\n",
      "0.678619907039\n"
     ]
    }
   ],
   "source": [
    "from sklearn.ensemble import RandomForestRegressor\n",
    "from sklearn.metrics import r2_score\n",
    "max_feat = ['sqrt']\n",
    "\n",
    "leaf = [1]\n",
    "\n",
    "estimators = [500]\n",
    "\n",
    "for e in estimators:\n",
    "    for l in leaf:\n",
    "        for m in max_feat:\n",
    "            print e,l,m\n",
    "            model = RandomForestRegressor(n_estimators=e, min_samples_leaf=l, max_features = m,random_state=1)\n",
    "            model.fit(train[columns], train[target])\n",
    "            # Generate our predictions for the test set.\n",
    "            predictions = model.predict(test[columns])\n",
    "            # Compute error between our test predictions and the actual values.\n",
    "            print mean_squared_error(predictions, test[target])\n",
    "            print r2_score(predictions, test[target])"
   ]
  },
  {
   "cell_type": "code",
   "execution_count": 129,
   "metadata": {
    "collapsed": false
   },
   "outputs": [
    {
     "name": "stdout",
     "output_type": "stream",
     "text": [
      "Feature ranking:\n",
      "1. feature trip_distance (0.315883)\n",
      "2. feature distance_square (0.302560)\n",
      "3. feature pickup_longitude (0.073500)\n",
      "4. feature dropoff_longitude (0.070749)\n",
      "5. feature drop_zip (0.067379)\n",
      "6. feature pickup_zip (0.061610)\n",
      "7. feature dropoff_latitude (0.041412)\n",
      "8. feature pickup_latitude (0.037630)\n",
      "9. feature hour (0.005507)\n",
      "10. feature date (0.005334)\n",
      "11. feature average_speed_this_hour (0.005108)\n",
      "12. feature count_of_rides (0.004621)\n",
      "13. feature day (0.004169)\n",
      "14. feature payment_code (0.002781)\n",
      "15. feature passenger_count (0.001757)\n"
     ]
    },
    {
     "data": {
      "image/png": "[encoded data removed]",
      "text/plain": [
       "<matplotlib.figure.Figure at 0x10da51ed0>"
      ]
     },
     "metadata": {},
     "output_type": "display_data"
    }
   ],
   "source": [
    "#6.48317570173\n",
    "importances = model.feature_importances_\n",
    "std = np.std([tree.feature_importances_ for tree in model.estimators_],\n",
    "             axis=0)\n",
    "indices = np.argsort(importances)[::-1]\n",
    "\n",
    "# Print the feature ranking\n",
    "print(\"Feature ranking:\")\n",
    "\n",
    "X = train[columns]\n",
    "l = X.columns.tolist()\n",
    "\n",
    "for f in range(X.shape[1]):\n",
    "    print(\"%d. feature %s (%f)\" % (f + 1, l[indices[f]], importances[indices[f]]))\n",
    "\n",
    "    \n",
    "# Plot the feature importances of the forest\n",
    "plt.figure()\n",
    "plt.title(\"Feature importances\")\n",
    "plt.bar(range(X.shape[1]), importances[indices],\n",
    "       color=\"r\", yerr=std[indices], align=\"center\")\n",
    "plt.xticks(range(X.shape[1]), indices)\n",
    "plt.xlim([-1, X.shape[1]])\n",
    "plt.show()"
   ]
  },
  {
   "cell_type": "code",
   "execution_count": null,
   "metadata": {
    "collapsed": true
   },
   "outputs": [],
   "source": [
    "import pickle\n",
    "import xgboost as xgb\n",
    "\n",
    "import numpy as np\n",
    "from sklearn.model_selection import KFold, train_test_split, GridSearchCV\n",
    "from sklearn.metrics import confusion_matrix, mean_squared_error\n",
    "\n",
    "xgb_model = xgb.XGBRegressor()\n",
    "clf = GridSearchCV(xgb_model,\n",
    "                   {'max_depth':[4] ,#[2,4,6,10,14],\n",
    "                    'n_estimators':[100] #[50,100,200,300,400,500,600],\n",
    "#                      'gamma':[0,0.5,1],\n",
    "#                      'min_child_weight': [1,5,6,7,10], \n",
    "#                      'subsample': [0.5,0.6,0.7,1]\n",
    "                     }, verbose=1)\n",
    "clf.fit(train[columns],train[target])\n",
    "\n",
    "print(clf.best_score_)\n",
    "print(clf.best_params_)\n",
    "\n",
    "clf.fit(train[columns], train[target])\n",
    "\n",
    "# Generate our predictions for the test set.\n",
    "predictions = clf.predict(test[columns])\n",
    "\n",
    "# Compute error between our test predictions and the actual values.\n",
    "print mean_squared_error(predictions, test[target])\n",
    "print r2_score(predictions, test[target])"
   ]
  }
 ],
 "metadata": {
  "kernelspec": {
   "display_name": "Python 2",
   "language": "python",
   "name": "python2"
  },
  "language_info": {
   "codemirror_mode": {
    "name": "ipython",
    "version": 2
   },
   "file_extension": ".py",
   "mimetype": "text/x-python",
   "name": "python",
   "nbconvert_exporter": "python",
   "pygments_lexer": "ipython2",
   "version": "2.7.13"
  }
 },
 "nbformat": 4,
 "nbformat_minor": 0
}
